{
 "cells": [
  {
   "cell_type": "code",
   "execution_count": 10,
   "metadata": {},
   "outputs": [],
   "source": [
    "import os\n",
    "import random\n",
    "import librosa\n",
    "import librosa.display\n",
    "import numpy as np\n",
    "import matplotlib.pyplot as plt\n",
    "from tqdm import tqdm"
   ]
  },
  {
   "cell_type": "code",
   "execution_count": 1,
   "metadata": {},
   "outputs": [],
   "source": [
    "# Set parameters\n",
    "INPUT_DIR = \"../dataset/raw data\"  # Folder containing genre subdirectories with 30-second audio files\n",
    "OUTPUT_DIR = \"../dataset/melspectrograms\"  # Folder where generated images will be saved\n",
    "\n",
    "SPLIT_RATIOS = {\"train\": 0.8, \"validation\": 0.1, \"test\": 0.1}\n",
    "\n",
    "# Audio processing parameters\n",
    "SAMPLE_RATE = 22050       \n",
    "SEGMENT_DURATION = 3      \n",
    "NUM_SEGMENTS = 10        \n",
    "N_MELS = 128\n",
    "N_FFT = 2048\n",
    "HOP_LENGTH = 512"
   ]
  },
  {
   "cell_type": "code",
   "execution_count": 2,
   "metadata": {},
   "outputs": [],
   "source": [
    "\n",
    "def create_output_dirs():\n",
    "    \"\"\"Create train, validation, and test directories for each genre.\"\"\"\n",
    "    for split in SPLIT_RATIOS.keys():\n",
    "        for genre in os.listdir(INPUT_DIR):\n",
    "            genre_dir = os.path.join(INPUT_DIR, genre)\n",
    "            if os.path.isdir(genre_dir):\n",
    "                output_genre_dir = os.path.join(OUTPUT_DIR, split, genre)\n",
    "                os.makedirs(output_genre_dir, exist_ok=True)\n",
    "\n"
   ]
  },
  {
   "cell_type": "code",
   "execution_count": 3,
   "metadata": {},
   "outputs": [],
   "source": [
    "def assign_split():\n",
    "    \"\"\"Randomly assign a segment to train, validation, or test based on SPLIT_RATIOS.\"\"\"\n",
    "    rnd = random.random()\n",
    "    cumulative = 0.0\n",
    "    for split, ratio in SPLIT_RATIOS.items():\n",
    "        cumulative += ratio\n",
    "        if rnd < cumulative:\n",
    "            return split\n",
    "    return \"train\"  # fallback\n",
    "\n"
   ]
  },
  {
   "cell_type": "code",
   "execution_count": 4,
   "metadata": {},
   "outputs": [],
   "source": [
    "def save_mel_spectrogram(mel_db, sr, output_filepath):\n",
    "    \"\"\"Save the Mel spectrogram as a JPEG image without axes.\"\"\"\n",
    "    plt.figure(figsize=(3, 3))\n",
    "    # Display the spectrogram;\n",
    "    librosa.display.specshow(mel_db, sr=sr, hop_length=HOP_LENGTH, \n",
    "                             x_axis='time', y_axis='mel', cmap='viridis')\n",
    "    plt.axis('off')\n",
    "    plt.tight_layout(pad=0)\n",
    "    plt.savefig(output_filepath, bbox_inches='tight', pad_inches=0)\n",
    "    plt.close()\n",
    "\n"
   ]
  },
  {
   "cell_type": "code",
   "execution_count": null,
   "metadata": {},
   "outputs": [],
   "source": [
    "def process_audio_file(filepath, genre):\n",
    "    \"\"\"Load an audio file, split into segments, generate and save Mel spectrograms.\"\"\"\n",
    "    try:\n",
    "        # Load the full audio file\n",
    "        y, sr = librosa.load(filepath, sr=SAMPLE_RATE)\n",
    "        total_samples = len(y)\n",
    "        samples_per_segment = int(SAMPLE_RATE * SEGMENT_DURATION)\n",
    "        \n",
    "        # Ensure the audio file has the expected length\n",
    "        if total_samples < samples_per_segment * NUM_SEGMENTS:\n",
    "            print(f\"Warning: {filepath} is shorter than expected.\")\n",
    "            return\n",
    "        \n",
    "        # Process each segment\n",
    "        for i in range(NUM_SEGMENTS):\n",
    "            start = i * samples_per_segment\n",
    "            end = start + samples_per_segment\n",
    "            segment = y[start:end]\n",
    "            \n",
    "            # Compute the Mel spectrogram\n",
    "            mel_spec = librosa.feature.melspectrogram(y=segment, sr=sr, n_fft=N_FFT,\n",
    "                                                      hop_length=HOP_LENGTH, n_mels=N_MELS)\n",
    "            # Convert to decibels for visualization\n",
    "            mel_db = librosa.power_to_db(mel_spec, ref=np.max)\n",
    "            \n",
    "            # Assign the segment to a split\n",
    "            split = assign_split()\n",
    "            # Construct the output filepath. Using the original file's basename (without extension)\n",
    "            base_filename = os.path.splitext(os.path.basename(filepath))[0]\n",
    "            output_filename = f\"{base_filename}_segment{i+1}.jpg\"\n",
    "            output_path = os.path.join(OUTPUT_DIR, split, genre, output_filename)\n",
    "            \n",
    "            # Save the spectrogram as a jpg file\n",
    "            save_mel_spectrogram(mel_db, sr, output_path)\n",
    "            # print(f\"Saved: {output_path}\")\n",
    "    except Exception as e:\n",
    "        print(f\"Error processing {filepath}: {e}\")\n",
    "\n"
   ]
  },
  {
   "cell_type": "code",
   "execution_count": 11,
   "metadata": {},
   "outputs": [
    {
     "name": "stdout",
     "output_type": "stream",
     "text": [
      "Genre: blues\n"
     ]
    },
    {
     "name": "stderr",
     "output_type": "stream",
     "text": [
      "Processing blues:   0%|          | 0/100 [00:00<?, ?it/s]"
     ]
    },
    {
     "name": "stdout",
     "output_type": "stream",
     "text": [
      "Saved: ../dataset/melspectrograms\\train\\blues\\blues.00000_segment1.jpg\n",
      "Saved: ../dataset/melspectrograms\\train\\blues\\blues.00000_segment2.jpg\n",
      "Saved: ../dataset/melspectrograms\\train\\blues\\blues.00000_segment3.jpg\n",
      "Saved: ../dataset/melspectrograms\\train\\blues\\blues.00000_segment4.jpg\n",
      "Saved: ../dataset/melspectrograms\\train\\blues\\blues.00000_segment5.jpg\n",
      "Saved: ../dataset/melspectrograms\\train\\blues\\blues.00000_segment6.jpg\n",
      "Saved: ../dataset/melspectrograms\\train\\blues\\blues.00000_segment7.jpg\n",
      "Saved: ../dataset/melspectrograms\\train\\blues\\blues.00000_segment8.jpg\n"
     ]
    },
    {
     "name": "stderr",
     "output_type": "stream",
     "text": [
      "Processing blues:   1%|          | 1/100 [00:04<07:40,  4.66s/it]"
     ]
    },
    {
     "name": "stdout",
     "output_type": "stream",
     "text": [
      "Saved: ../dataset/melspectrograms\\train\\blues\\blues.00000_segment9.jpg\n",
      "Saved: ../dataset/melspectrograms\\validation\\blues\\blues.00000_segment10.jpg\n",
      "Saved: ../dataset/melspectrograms\\validation\\blues\\blues.00001_segment1.jpg\n",
      "Saved: ../dataset/melspectrograms\\train\\blues\\blues.00001_segment2.jpg\n",
      "Saved: ../dataset/melspectrograms\\train\\blues\\blues.00001_segment3.jpg\n",
      "Saved: ../dataset/melspectrograms\\train\\blues\\blues.00001_segment4.jpg\n",
      "Saved: ../dataset/melspectrograms\\train\\blues\\blues.00001_segment5.jpg\n",
      "Saved: ../dataset/melspectrograms\\test\\blues\\blues.00001_segment6.jpg\n",
      "Saved: ../dataset/melspectrograms\\train\\blues\\blues.00001_segment7.jpg\n",
      "Saved: ../dataset/melspectrograms\\train\\blues\\blues.00001_segment8.jpg\n"
     ]
    },
    {
     "name": "stderr",
     "output_type": "stream",
     "text": [
      "Processing blues:   2%|▏         | 2/100 [00:05<03:58,  2.44s/it]"
     ]
    },
    {
     "name": "stdout",
     "output_type": "stream",
     "text": [
      "Saved: ../dataset/melspectrograms\\train\\blues\\blues.00001_segment9.jpg\n",
      "Saved: ../dataset/melspectrograms\\train\\blues\\blues.00001_segment10.jpg\n",
      "Saved: ../dataset/melspectrograms\\train\\blues\\blues.00002_segment1.jpg\n",
      "Saved: ../dataset/melspectrograms\\train\\blues\\blues.00002_segment2.jpg\n",
      "Saved: ../dataset/melspectrograms\\train\\blues\\blues.00002_segment3.jpg\n",
      "Saved: ../dataset/melspectrograms\\train\\blues\\blues.00002_segment4.jpg\n",
      "Saved: ../dataset/melspectrograms\\train\\blues\\blues.00002_segment5.jpg\n",
      "Saved: ../dataset/melspectrograms\\test\\blues\\blues.00002_segment6.jpg\n"
     ]
    },
    {
     "name": "stderr",
     "output_type": "stream",
     "text": [
      "Processing blues:   3%|▎         | 3/100 [00:06<02:35,  1.60s/it]"
     ]
    },
    {
     "name": "stdout",
     "output_type": "stream",
     "text": [
      "Saved: ../dataset/melspectrograms\\train\\blues\\blues.00002_segment7.jpg\n",
      "Saved: ../dataset/melspectrograms\\train\\blues\\blues.00002_segment8.jpg\n",
      "Saved: ../dataset/melspectrograms\\train\\blues\\blues.00002_segment9.jpg\n",
      "Saved: ../dataset/melspectrograms\\train\\blues\\blues.00002_segment10.jpg\n",
      "Saved: ../dataset/melspectrograms\\train\\blues\\blues.00003_segment1.jpg\n",
      "Saved: ../dataset/melspectrograms\\train\\blues\\blues.00003_segment2.jpg\n",
      "Saved: ../dataset/melspectrograms\\train\\blues\\blues.00003_segment3.jpg\n",
      "Saved: ../dataset/melspectrograms\\train\\blues\\blues.00003_segment4.jpg\n",
      "Saved: ../dataset/melspectrograms\\train\\blues\\blues.00003_segment5.jpg\n",
      "Saved: ../dataset/melspectrograms\\train\\blues\\blues.00003_segment6.jpg\n",
      "Saved: ../dataset/melspectrograms\\train\\blues\\blues.00003_segment7.jpg\n",
      "Saved: ../dataset/melspectrograms\\train\\blues\\blues.00003_segment8.jpg\n"
     ]
    },
    {
     "name": "stderr",
     "output_type": "stream",
     "text": [
      "Processing blues:   4%|▍         | 4/100 [00:06<02:00,  1.25s/it]"
     ]
    },
    {
     "name": "stdout",
     "output_type": "stream",
     "text": [
      "Saved: ../dataset/melspectrograms\\validation\\blues\\blues.00003_segment9.jpg\n",
      "Saved: ../dataset/melspectrograms\\validation\\blues\\blues.00003_segment10.jpg\n",
      "Saved: ../dataset/melspectrograms\\train\\blues\\blues.00004_segment1.jpg\n",
      "Saved: ../dataset/melspectrograms\\train\\blues\\blues.00004_segment2.jpg\n",
      "Saved: ../dataset/melspectrograms\\train\\blues\\blues.00004_segment3.jpg\n",
      "Saved: ../dataset/melspectrograms\\train\\blues\\blues.00004_segment4.jpg\n",
      "Saved: ../dataset/melspectrograms\\train\\blues\\blues.00004_segment5.jpg\n",
      "Saved: ../dataset/melspectrograms\\test\\blues\\blues.00004_segment6.jpg\n"
     ]
    },
    {
     "name": "stderr",
     "output_type": "stream",
     "text": [
      "Processing blues:   5%|▌         | 5/100 [00:07<01:38,  1.03s/it]"
     ]
    },
    {
     "name": "stdout",
     "output_type": "stream",
     "text": [
      "Saved: ../dataset/melspectrograms\\test\\blues\\blues.00004_segment7.jpg\n",
      "Saved: ../dataset/melspectrograms\\train\\blues\\blues.00004_segment8.jpg\n",
      "Saved: ../dataset/melspectrograms\\train\\blues\\blues.00004_segment9.jpg\n",
      "Saved: ../dataset/melspectrograms\\train\\blues\\blues.00004_segment10.jpg\n",
      "Saved: ../dataset/melspectrograms\\train\\blues\\blues.00005_segment1.jpg\n",
      "Saved: ../dataset/melspectrograms\\train\\blues\\blues.00005_segment2.jpg\n",
      "Saved: ../dataset/melspectrograms\\train\\blues\\blues.00005_segment3.jpg\n",
      "Saved: ../dataset/melspectrograms\\train\\blues\\blues.00005_segment4.jpg\n",
      "Saved: ../dataset/melspectrograms\\validation\\blues\\blues.00005_segment5.jpg\n",
      "Saved: ../dataset/melspectrograms\\train\\blues\\blues.00005_segment6.jpg\n",
      "Saved: ../dataset/melspectrograms\\train\\blues\\blues.00005_segment7.jpg\n",
      "Saved: ../dataset/melspectrograms\\train\\blues\\blues.00005_segment8.jpg\n"
     ]
    },
    {
     "name": "stderr",
     "output_type": "stream",
     "text": [
      "Processing blues:   6%|▌         | 6/100 [00:08<01:28,  1.06it/s]"
     ]
    },
    {
     "name": "stdout",
     "output_type": "stream",
     "text": [
      "Saved: ../dataset/melspectrograms\\train\\blues\\blues.00005_segment9.jpg\n",
      "Saved: ../dataset/melspectrograms\\train\\blues\\blues.00005_segment10.jpg\n",
      "Saved: ../dataset/melspectrograms\\train\\blues\\blues.00006_segment1.jpg\n",
      "Saved: ../dataset/melspectrograms\\train\\blues\\blues.00006_segment2.jpg\n",
      "Saved: ../dataset/melspectrograms\\train\\blues\\blues.00006_segment3.jpg\n",
      "Saved: ../dataset/melspectrograms\\train\\blues\\blues.00006_segment4.jpg\n",
      "Saved: ../dataset/melspectrograms\\test\\blues\\blues.00006_segment5.jpg\n",
      "Saved: ../dataset/melspectrograms\\train\\blues\\blues.00006_segment6.jpg\n"
     ]
    },
    {
     "name": "stderr",
     "output_type": "stream",
     "text": [
      "Processing blues:   7%|▋         | 7/100 [00:08<01:17,  1.20it/s]"
     ]
    },
    {
     "name": "stdout",
     "output_type": "stream",
     "text": [
      "Saved: ../dataset/melspectrograms\\train\\blues\\blues.00006_segment7.jpg\n",
      "Saved: ../dataset/melspectrograms\\train\\blues\\blues.00006_segment8.jpg\n",
      "Saved: ../dataset/melspectrograms\\train\\blues\\blues.00006_segment9.jpg\n",
      "Saved: ../dataset/melspectrograms\\train\\blues\\blues.00006_segment10.jpg\n",
      "Saved: ../dataset/melspectrograms\\train\\blues\\blues.00007_segment1.jpg\n",
      "Saved: ../dataset/melspectrograms\\train\\blues\\blues.00007_segment2.jpg\n",
      "Saved: ../dataset/melspectrograms\\test\\blues\\blues.00007_segment3.jpg\n",
      "Saved: ../dataset/melspectrograms\\validation\\blues\\blues.00007_segment4.jpg\n",
      "Saved: ../dataset/melspectrograms\\train\\blues\\blues.00007_segment5.jpg\n",
      "Saved: ../dataset/melspectrograms\\test\\blues\\blues.00007_segment6.jpg\n",
      "Saved: ../dataset/melspectrograms\\train\\blues\\blues.00007_segment7.jpg\n",
      "Saved: ../dataset/melspectrograms\\train\\blues\\blues.00007_segment8.jpg\n"
     ]
    },
    {
     "name": "stderr",
     "output_type": "stream",
     "text": [
      "Processing blues:   8%|▊         | 8/100 [00:09<01:10,  1.31it/s]"
     ]
    },
    {
     "name": "stdout",
     "output_type": "stream",
     "text": [
      "Saved: ../dataset/melspectrograms\\train\\blues\\blues.00007_segment9.jpg\n",
      "Saved: ../dataset/melspectrograms\\train\\blues\\blues.00007_segment10.jpg\n",
      "Saved: ../dataset/melspectrograms\\train\\blues\\blues.00008_segment1.jpg\n",
      "Saved: ../dataset/melspectrograms\\test\\blues\\blues.00008_segment2.jpg\n",
      "Saved: ../dataset/melspectrograms\\validation\\blues\\blues.00008_segment3.jpg\n",
      "Saved: ../dataset/melspectrograms\\train\\blues\\blues.00008_segment4.jpg\n",
      "Saved: ../dataset/melspectrograms\\test\\blues\\blues.00008_segment5.jpg\n",
      "Saved: ../dataset/melspectrograms\\train\\blues\\blues.00008_segment6.jpg\n",
      "Saved: ../dataset/melspectrograms\\train\\blues\\blues.00008_segment7.jpg\n",
      "Saved: ../dataset/melspectrograms\\train\\blues\\blues.00008_segment8.jpg\n",
      "Saved: ../dataset/melspectrograms\\train\\blues\\blues.00008_segment9.jpg\n"
     ]
    },
    {
     "name": "stderr",
     "output_type": "stream",
     "text": [
      "Processing blues:   9%|▉         | 9/100 [00:10<01:08,  1.33it/s]"
     ]
    },
    {
     "name": "stdout",
     "output_type": "stream",
     "text": [
      "Saved: ../dataset/melspectrograms\\train\\blues\\blues.00008_segment10.jpg\n",
      "Saved: ../dataset/melspectrograms\\train\\blues\\blues.00009_segment1.jpg\n",
      "Saved: ../dataset/melspectrograms\\train\\blues\\blues.00009_segment2.jpg\n",
      "Saved: ../dataset/melspectrograms\\train\\blues\\blues.00009_segment3.jpg\n",
      "Saved: ../dataset/melspectrograms\\train\\blues\\blues.00009_segment4.jpg\n",
      "Saved: ../dataset/melspectrograms\\train\\blues\\blues.00009_segment5.jpg\n",
      "Saved: ../dataset/melspectrograms\\train\\blues\\blues.00009_segment6.jpg\n",
      "Saved: ../dataset/melspectrograms\\train\\blues\\blues.00009_segment7.jpg\n"
     ]
    },
    {
     "name": "stderr",
     "output_type": "stream",
     "text": [
      "Processing blues:  10%|█         | 10/100 [00:10<01:05,  1.38it/s]"
     ]
    },
    {
     "name": "stdout",
     "output_type": "stream",
     "text": [
      "Saved: ../dataset/melspectrograms\\train\\blues\\blues.00009_segment8.jpg\n",
      "Saved: ../dataset/melspectrograms\\train\\blues\\blues.00009_segment9.jpg\n",
      "Saved: ../dataset/melspectrograms\\train\\blues\\blues.00009_segment10.jpg\n",
      "Saved: ../dataset/melspectrograms\\train\\blues\\blues.00010_segment1.jpg\n",
      "Saved: ../dataset/melspectrograms\\train\\blues\\blues.00010_segment2.jpg\n",
      "Saved: ../dataset/melspectrograms\\train\\blues\\blues.00010_segment3.jpg\n",
      "Saved: ../dataset/melspectrograms\\test\\blues\\blues.00010_segment4.jpg\n",
      "Saved: ../dataset/melspectrograms\\train\\blues\\blues.00010_segment5.jpg\n",
      "Saved: ../dataset/melspectrograms\\train\\blues\\blues.00010_segment6.jpg\n",
      "Saved: ../dataset/melspectrograms\\validation\\blues\\blues.00010_segment7.jpg\n"
     ]
    },
    {
     "name": "stderr",
     "output_type": "stream",
     "text": [
      "Processing blues:  11%|█         | 11/100 [00:11<01:07,  1.33it/s]"
     ]
    },
    {
     "name": "stdout",
     "output_type": "stream",
     "text": [
      "Saved: ../dataset/melspectrograms\\test\\blues\\blues.00010_segment8.jpg\n",
      "Saved: ../dataset/melspectrograms\\train\\blues\\blues.00010_segment9.jpg\n",
      "Saved: ../dataset/melspectrograms\\train\\blues\\blues.00010_segment10.jpg\n"
     ]
    },
    {
     "name": "stderr",
     "output_type": "stream",
     "text": [
      "                                                                  "
     ]
    },
    {
     "name": "stdout",
     "output_type": "stream",
     "text": [
      "Saved: ../dataset/melspectrograms\\validation\\blues\\blues.00011_segment1.jpg\n",
      "Saved: ../dataset/melspectrograms\\train\\blues\\blues.00011_segment2.jpg\n"
     ]
    },
    {
     "name": "stderr",
     "output_type": "stream",
     "text": [
      "\r"
     ]
    },
    {
     "ename": "KeyboardInterrupt",
     "evalue": "",
     "output_type": "error",
     "traceback": [
      "\u001b[1;31m---------------------------------------------------------------------------\u001b[0m",
      "\u001b[1;31mKeyboardInterrupt\u001b[0m                         Traceback (most recent call last)",
      "Cell \u001b[1;32mIn[11], line 14\u001b[0m\n\u001b[0;32m     12\u001b[0m \u001b[38;5;28;01mif\u001b[39;00m filename\u001b[38;5;241m.\u001b[39mlower()\u001b[38;5;241m.\u001b[39mendswith((\u001b[38;5;124m\"\u001b[39m\u001b[38;5;124m.wav\u001b[39m\u001b[38;5;124m\"\u001b[39m, \u001b[38;5;124m\"\u001b[39m\u001b[38;5;124m.mp3\u001b[39m\u001b[38;5;124m\"\u001b[39m, \u001b[38;5;124m\"\u001b[39m\u001b[38;5;124m.au\u001b[39m\u001b[38;5;124m\"\u001b[39m)):  \u001b[38;5;66;03m# add more extensions if needed\u001b[39;00m\n\u001b[0;32m     13\u001b[0m     filepath \u001b[38;5;241m=\u001b[39m os\u001b[38;5;241m.\u001b[39mpath\u001b[38;5;241m.\u001b[39mjoin(genre_dir, filename)\n\u001b[1;32m---> 14\u001b[0m     \u001b[43mprocess_audio_file\u001b[49m\u001b[43m(\u001b[49m\u001b[43mfilepath\u001b[49m\u001b[43m,\u001b[49m\u001b[43m \u001b[49m\u001b[43mgenre\u001b[49m\u001b[43m)\u001b[49m\n",
      "Cell \u001b[1;32mIn[5], line 21\u001b[0m, in \u001b[0;36mprocess_audio_file\u001b[1;34m(filepath, genre)\u001b[0m\n\u001b[0;32m     18\u001b[0m segment \u001b[38;5;241m=\u001b[39m y[start:end]\n\u001b[0;32m     20\u001b[0m \u001b[38;5;66;03m# Compute the Mel spectrogram\u001b[39;00m\n\u001b[1;32m---> 21\u001b[0m mel_spec \u001b[38;5;241m=\u001b[39m \u001b[43mlibrosa\u001b[49m\u001b[38;5;241;43m.\u001b[39;49m\u001b[43mfeature\u001b[49m\u001b[38;5;241;43m.\u001b[39;49m\u001b[43mmelspectrogram\u001b[49m\u001b[43m(\u001b[49m\u001b[43my\u001b[49m\u001b[38;5;241;43m=\u001b[39;49m\u001b[43msegment\u001b[49m\u001b[43m,\u001b[49m\u001b[43m \u001b[49m\u001b[43msr\u001b[49m\u001b[38;5;241;43m=\u001b[39;49m\u001b[43msr\u001b[49m\u001b[43m,\u001b[49m\u001b[43m \u001b[49m\u001b[43mn_fft\u001b[49m\u001b[38;5;241;43m=\u001b[39;49m\u001b[43mN_FFT\u001b[49m\u001b[43m,\u001b[49m\n\u001b[0;32m     22\u001b[0m \u001b[43m                                          \u001b[49m\u001b[43mhop_length\u001b[49m\u001b[38;5;241;43m=\u001b[39;49m\u001b[43mHOP_LENGTH\u001b[49m\u001b[43m,\u001b[49m\u001b[43m \u001b[49m\u001b[43mn_mels\u001b[49m\u001b[38;5;241;43m=\u001b[39;49m\u001b[43mN_MELS\u001b[49m\u001b[43m)\u001b[49m\n\u001b[0;32m     23\u001b[0m \u001b[38;5;66;03m# Convert to decibels for visualization\u001b[39;00m\n\u001b[0;32m     24\u001b[0m mel_db \u001b[38;5;241m=\u001b[39m librosa\u001b[38;5;241m.\u001b[39mpower_to_db(mel_spec, ref\u001b[38;5;241m=\u001b[39mnp\u001b[38;5;241m.\u001b[39mmax)\n",
      "File \u001b[1;32mc:\\Users\\STUDENT\\anaconda3\\envs\\diaml_04\\Lib\\site-packages\\librosa\\feature\\spectral.py:2130\u001b[0m, in \u001b[0;36mmelspectrogram\u001b[1;34m(y, sr, S, n_fft, hop_length, win_length, window, center, pad_mode, power, **kwargs)\u001b[0m\n\u001b[0;32m   2008\u001b[0m \u001b[38;5;28;01mdef\u001b[39;00m \u001b[38;5;21mmelspectrogram\u001b[39m(\n\u001b[0;32m   2009\u001b[0m     \u001b[38;5;241m*\u001b[39m,\n\u001b[0;32m   2010\u001b[0m     y: Optional[np\u001b[38;5;241m.\u001b[39mndarray] \u001b[38;5;241m=\u001b[39m \u001b[38;5;28;01mNone\u001b[39;00m,\n\u001b[1;32m   (...)\u001b[0m\n\u001b[0;32m   2020\u001b[0m     \u001b[38;5;241m*\u001b[39m\u001b[38;5;241m*\u001b[39mkwargs: Any,\n\u001b[0;32m   2021\u001b[0m ) \u001b[38;5;241m-\u001b[39m\u001b[38;5;241m>\u001b[39m np\u001b[38;5;241m.\u001b[39mndarray:\n\u001b[0;32m   2022\u001b[0m \u001b[38;5;250m    \u001b[39m\u001b[38;5;124;03m\"\"\"Compute a mel-scaled spectrogram.\u001b[39;00m\n\u001b[0;32m   2023\u001b[0m \n\u001b[0;32m   2024\u001b[0m \u001b[38;5;124;03m    If a spectrogram input ``S`` is provided, then it is mapped directly onto\u001b[39;00m\n\u001b[1;32m   (...)\u001b[0m\n\u001b[0;32m   2128\u001b[0m \u001b[38;5;124;03m    >>> ax.set(title='Mel-frequency spectrogram')\u001b[39;00m\n\u001b[0;32m   2129\u001b[0m \u001b[38;5;124;03m    \"\"\"\u001b[39;00m\n\u001b[1;32m-> 2130\u001b[0m     S, n_fft \u001b[38;5;241m=\u001b[39m \u001b[43m_spectrogram\u001b[49m\u001b[43m(\u001b[49m\n\u001b[0;32m   2131\u001b[0m \u001b[43m        \u001b[49m\u001b[43my\u001b[49m\u001b[38;5;241;43m=\u001b[39;49m\u001b[43my\u001b[49m\u001b[43m,\u001b[49m\n\u001b[0;32m   2132\u001b[0m \u001b[43m        \u001b[49m\u001b[43mS\u001b[49m\u001b[38;5;241;43m=\u001b[39;49m\u001b[43mS\u001b[49m\u001b[43m,\u001b[49m\n\u001b[0;32m   2133\u001b[0m \u001b[43m        \u001b[49m\u001b[43mn_fft\u001b[49m\u001b[38;5;241;43m=\u001b[39;49m\u001b[43mn_fft\u001b[49m\u001b[43m,\u001b[49m\n\u001b[0;32m   2134\u001b[0m \u001b[43m        \u001b[49m\u001b[43mhop_length\u001b[49m\u001b[38;5;241;43m=\u001b[39;49m\u001b[43mhop_length\u001b[49m\u001b[43m,\u001b[49m\n\u001b[0;32m   2135\u001b[0m \u001b[43m        \u001b[49m\u001b[43mpower\u001b[49m\u001b[38;5;241;43m=\u001b[39;49m\u001b[43mpower\u001b[49m\u001b[43m,\u001b[49m\n\u001b[0;32m   2136\u001b[0m \u001b[43m        \u001b[49m\u001b[43mwin_length\u001b[49m\u001b[38;5;241;43m=\u001b[39;49m\u001b[43mwin_length\u001b[49m\u001b[43m,\u001b[49m\n\u001b[0;32m   2137\u001b[0m \u001b[43m        \u001b[49m\u001b[43mwindow\u001b[49m\u001b[38;5;241;43m=\u001b[39;49m\u001b[43mwindow\u001b[49m\u001b[43m,\u001b[49m\n\u001b[0;32m   2138\u001b[0m \u001b[43m        \u001b[49m\u001b[43mcenter\u001b[49m\u001b[38;5;241;43m=\u001b[39;49m\u001b[43mcenter\u001b[49m\u001b[43m,\u001b[49m\n\u001b[0;32m   2139\u001b[0m \u001b[43m        \u001b[49m\u001b[43mpad_mode\u001b[49m\u001b[38;5;241;43m=\u001b[39;49m\u001b[43mpad_mode\u001b[49m\u001b[43m,\u001b[49m\n\u001b[0;32m   2140\u001b[0m \u001b[43m    \u001b[49m\u001b[43m)\u001b[49m\n\u001b[0;32m   2142\u001b[0m     \u001b[38;5;66;03m# Build a Mel filter\u001b[39;00m\n\u001b[0;32m   2143\u001b[0m     mel_basis \u001b[38;5;241m=\u001b[39m filters\u001b[38;5;241m.\u001b[39mmel(sr\u001b[38;5;241m=\u001b[39msr, n_fft\u001b[38;5;241m=\u001b[39mn_fft, \u001b[38;5;241m*\u001b[39m\u001b[38;5;241m*\u001b[39mkwargs)\n",
      "File \u001b[1;32mc:\\Users\\STUDENT\\anaconda3\\envs\\diaml_04\\Lib\\site-packages\\librosa\\core\\spectrum.py:2945\u001b[0m, in \u001b[0;36m_spectrogram\u001b[1;34m(y, S, n_fft, hop_length, power, win_length, window, center, pad_mode)\u001b[0m\n\u001b[0;32m   2939\u001b[0m     \u001b[38;5;28;01mif\u001b[39;00m y \u001b[38;5;129;01mis\u001b[39;00m \u001b[38;5;28;01mNone\u001b[39;00m:\n\u001b[0;32m   2940\u001b[0m         \u001b[38;5;28;01mraise\u001b[39;00m ParameterError(\n\u001b[0;32m   2941\u001b[0m             \u001b[38;5;124m\"\u001b[39m\u001b[38;5;124mInput signal must be provided to compute a spectrogram\u001b[39m\u001b[38;5;124m\"\u001b[39m\n\u001b[0;32m   2942\u001b[0m         )\n\u001b[0;32m   2943\u001b[0m     S \u001b[38;5;241m=\u001b[39m (\n\u001b[0;32m   2944\u001b[0m         np\u001b[38;5;241m.\u001b[39mabs(\n\u001b[1;32m-> 2945\u001b[0m             \u001b[43mstft\u001b[49m\u001b[43m(\u001b[49m\n\u001b[0;32m   2946\u001b[0m \u001b[43m                \u001b[49m\u001b[43my\u001b[49m\u001b[43m,\u001b[49m\n\u001b[0;32m   2947\u001b[0m \u001b[43m                \u001b[49m\u001b[43mn_fft\u001b[49m\u001b[38;5;241;43m=\u001b[39;49m\u001b[43mn_fft\u001b[49m\u001b[43m,\u001b[49m\n\u001b[0;32m   2948\u001b[0m \u001b[43m                \u001b[49m\u001b[43mhop_length\u001b[49m\u001b[38;5;241;43m=\u001b[39;49m\u001b[43mhop_length\u001b[49m\u001b[43m,\u001b[49m\n\u001b[0;32m   2949\u001b[0m \u001b[43m                \u001b[49m\u001b[43mwin_length\u001b[49m\u001b[38;5;241;43m=\u001b[39;49m\u001b[43mwin_length\u001b[49m\u001b[43m,\u001b[49m\n\u001b[0;32m   2950\u001b[0m \u001b[43m                \u001b[49m\u001b[43mcenter\u001b[49m\u001b[38;5;241;43m=\u001b[39;49m\u001b[43mcenter\u001b[49m\u001b[43m,\u001b[49m\n\u001b[0;32m   2951\u001b[0m \u001b[43m                \u001b[49m\u001b[43mwindow\u001b[49m\u001b[38;5;241;43m=\u001b[39;49m\u001b[43mwindow\u001b[49m\u001b[43m,\u001b[49m\n\u001b[0;32m   2952\u001b[0m \u001b[43m                \u001b[49m\u001b[43mpad_mode\u001b[49m\u001b[38;5;241;43m=\u001b[39;49m\u001b[43mpad_mode\u001b[49m\u001b[43m,\u001b[49m\n\u001b[0;32m   2953\u001b[0m \u001b[43m            \u001b[49m\u001b[43m)\u001b[49m\n\u001b[0;32m   2954\u001b[0m         )\n\u001b[0;32m   2955\u001b[0m         \u001b[38;5;241m*\u001b[39m\u001b[38;5;241m*\u001b[39m power\n\u001b[0;32m   2956\u001b[0m     )\n\u001b[0;32m   2958\u001b[0m \u001b[38;5;28;01mreturn\u001b[39;00m S, n_fft\n",
      "File \u001b[1;32mc:\\Users\\STUDENT\\anaconda3\\envs\\diaml_04\\Lib\\site-packages\\librosa\\core\\spectrum.py:241\u001b[0m, in \u001b[0;36mstft\u001b[1;34m(y, n_fft, hop_length, win_length, window, center, dtype, pad_mode, out)\u001b[0m\n\u001b[0;32m    238\u001b[0m \u001b[38;5;66;03m# Check audio is valid\u001b[39;00m\n\u001b[0;32m    239\u001b[0m util\u001b[38;5;241m.\u001b[39mvalid_audio(y, mono\u001b[38;5;241m=\u001b[39m\u001b[38;5;28;01mFalse\u001b[39;00m)\n\u001b[1;32m--> 241\u001b[0m fft_window \u001b[38;5;241m=\u001b[39m \u001b[43mget_window\u001b[49m\u001b[43m(\u001b[49m\u001b[43mwindow\u001b[49m\u001b[43m,\u001b[49m\u001b[43m \u001b[49m\u001b[43mwin_length\u001b[49m\u001b[43m,\u001b[49m\u001b[43m \u001b[49m\u001b[43mfftbins\u001b[49m\u001b[38;5;241;43m=\u001b[39;49m\u001b[38;5;28;43;01mTrue\u001b[39;49;00m\u001b[43m)\u001b[49m\n\u001b[0;32m    243\u001b[0m \u001b[38;5;66;03m# Pad the window out to n_fft size\u001b[39;00m\n\u001b[0;32m    244\u001b[0m fft_window \u001b[38;5;241m=\u001b[39m util\u001b[38;5;241m.\u001b[39mpad_center(fft_window, size\u001b[38;5;241m=\u001b[39mn_fft)\n",
      "File \u001b[1;32mc:\\Users\\STUDENT\\anaconda3\\envs\\diaml_04\\Lib\\site-packages\\librosa\\filters.py:1230\u001b[0m, in \u001b[0;36mget_window\u001b[1;34m(window, Nx, fftbins)\u001b[0m\n\u001b[0;32m   1225\u001b[0m     \u001b[38;5;28;01mreturn\u001b[39;00m window(Nx)\n\u001b[0;32m   1227\u001b[0m \u001b[38;5;28;01melif\u001b[39;00m \u001b[38;5;28misinstance\u001b[39m(window, (\u001b[38;5;28mstr\u001b[39m, \u001b[38;5;28mtuple\u001b[39m)) \u001b[38;5;129;01mor\u001b[39;00m np\u001b[38;5;241m.\u001b[39misscalar(window):\n\u001b[0;32m   1228\u001b[0m     \u001b[38;5;66;03m# TODO: if we add custom window functions in librosa, call them here\u001b[39;00m\n\u001b[1;32m-> 1230\u001b[0m     win: np\u001b[38;5;241m.\u001b[39mndarray \u001b[38;5;241m=\u001b[39m \u001b[43mscipy\u001b[49m\u001b[38;5;241;43m.\u001b[39;49m\u001b[43msignal\u001b[49m\u001b[38;5;241;43m.\u001b[39;49m\u001b[43mget_window\u001b[49m\u001b[43m(\u001b[49m\u001b[43mwindow\u001b[49m\u001b[43m,\u001b[49m\u001b[43m \u001b[49m\u001b[43mNx\u001b[49m\u001b[43m,\u001b[49m\u001b[43m \u001b[49m\u001b[43mfftbins\u001b[49m\u001b[38;5;241;43m=\u001b[39;49m\u001b[43mfftbins\u001b[49m\u001b[43m)\u001b[49m\n\u001b[0;32m   1231\u001b[0m     \u001b[38;5;28;01mreturn\u001b[39;00m win\n\u001b[0;32m   1233\u001b[0m \u001b[38;5;28;01melif\u001b[39;00m \u001b[38;5;28misinstance\u001b[39m(window, (np\u001b[38;5;241m.\u001b[39mndarray, \u001b[38;5;28mlist\u001b[39m)):\n",
      "File \u001b[1;32mc:\\Users\\STUDENT\\anaconda3\\envs\\diaml_04\\Lib\\site-packages\\scipy\\signal\\windows\\_windows.py:2374\u001b[0m, in \u001b[0;36mget_window\u001b[1;34m(window, Nx, fftbins)\u001b[0m\n\u001b[0;32m   2371\u001b[0m     winfunc \u001b[38;5;241m=\u001b[39m kaiser\n\u001b[0;32m   2372\u001b[0m     params \u001b[38;5;241m=\u001b[39m (Nx, beta)\n\u001b[1;32m-> 2374\u001b[0m \u001b[38;5;28;01mreturn\u001b[39;00m \u001b[43mwinfunc\u001b[49m\u001b[43m(\u001b[49m\u001b[38;5;241;43m*\u001b[39;49m\u001b[43mparams\u001b[49m\u001b[43m,\u001b[49m\u001b[43m \u001b[49m\u001b[43msym\u001b[49m\u001b[38;5;241;43m=\u001b[39;49m\u001b[43msym\u001b[49m\u001b[43m)\u001b[49m\n",
      "File \u001b[1;32mc:\\Users\\STUDENT\\anaconda3\\envs\\diaml_04\\Lib\\site-packages\\scipy\\signal\\windows\\_windows.py:804\u001b[0m, in \u001b[0;36mhann\u001b[1;34m(M, sym)\u001b[0m\n\u001b[0;32m    725\u001b[0m \u001b[38;5;250m\u001b[39m\u001b[38;5;124mr\u001b[39m\u001b[38;5;124;03m\"\"\"\u001b[39;00m\n\u001b[0;32m    726\u001b[0m \u001b[38;5;124;03mReturn a Hann window.\u001b[39;00m\n\u001b[0;32m    727\u001b[0m \n\u001b[1;32m   (...)\u001b[0m\n\u001b[0;32m    801\u001b[0m \n\u001b[0;32m    802\u001b[0m \u001b[38;5;124;03m\"\"\"\u001b[39;00m\n\u001b[0;32m    803\u001b[0m \u001b[38;5;66;03m# Docstring adapted from NumPy's hanning function\u001b[39;00m\n\u001b[1;32m--> 804\u001b[0m \u001b[38;5;28;01mreturn\u001b[39;00m \u001b[43mgeneral_hamming\u001b[49m\u001b[43m(\u001b[49m\u001b[43mM\u001b[49m\u001b[43m,\u001b[49m\u001b[43m \u001b[49m\u001b[38;5;241;43m0.5\u001b[39;49m\u001b[43m,\u001b[49m\u001b[43m \u001b[49m\u001b[43msym\u001b[49m\u001b[43m)\u001b[49m\n",
      "File \u001b[1;32mc:\\Users\\STUDENT\\anaconda3\\envs\\diaml_04\\Lib\\site-packages\\scipy\\signal\\windows\\_windows.py:1033\u001b[0m, in \u001b[0;36mgeneral_hamming\u001b[1;34m(M, alpha, sym)\u001b[0m\n\u001b[0;32m    947\u001b[0m \u001b[38;5;28;01mdef\u001b[39;00m \u001b[38;5;21mgeneral_hamming\u001b[39m(M, alpha, sym\u001b[38;5;241m=\u001b[39m\u001b[38;5;28;01mTrue\u001b[39;00m):\n\u001b[0;32m    948\u001b[0m \u001b[38;5;250m    \u001b[39m\u001b[38;5;124mr\u001b[39m\u001b[38;5;124;03m\"\"\"Return a generalized Hamming window.\u001b[39;00m\n\u001b[0;32m    949\u001b[0m \n\u001b[0;32m    950\u001b[0m \u001b[38;5;124;03m    The generalized Hamming window is constructed by multiplying a rectangular\u001b[39;00m\n\u001b[1;32m   (...)\u001b[0m\n\u001b[0;32m   1031\u001b[0m \n\u001b[0;32m   1032\u001b[0m \u001b[38;5;124;03m    \"\"\"\u001b[39;00m\n\u001b[1;32m-> 1033\u001b[0m     \u001b[38;5;28;01mreturn\u001b[39;00m \u001b[43mgeneral_cosine\u001b[49m\u001b[43m(\u001b[49m\u001b[43mM\u001b[49m\u001b[43m,\u001b[49m\u001b[43m \u001b[49m\u001b[43m[\u001b[49m\u001b[43malpha\u001b[49m\u001b[43m,\u001b[49m\u001b[43m \u001b[49m\u001b[38;5;241;43m1.\u001b[39;49m\u001b[43m \u001b[49m\u001b[38;5;241;43m-\u001b[39;49m\u001b[43m \u001b[49m\u001b[43malpha\u001b[49m\u001b[43m]\u001b[49m\u001b[43m,\u001b[49m\u001b[43m \u001b[49m\u001b[43msym\u001b[49m\u001b[43m)\u001b[49m\n",
      "File \u001b[1;32mc:\\Users\\STUDENT\\anaconda3\\envs\\diaml_04\\Lib\\site-packages\\scipy\\signal\\windows\\_windows.py:123\u001b[0m, in \u001b[0;36mgeneral_cosine\u001b[1;34m(M, a, sym)\u001b[0m\n\u001b[0;32m    121\u001b[0m w \u001b[38;5;241m=\u001b[39m np\u001b[38;5;241m.\u001b[39mzeros(M)\n\u001b[0;32m    122\u001b[0m \u001b[38;5;28;01mfor\u001b[39;00m k \u001b[38;5;129;01min\u001b[39;00m \u001b[38;5;28mrange\u001b[39m(\u001b[38;5;28mlen\u001b[39m(a)):\n\u001b[1;32m--> 123\u001b[0m     w \u001b[38;5;241m+\u001b[39m\u001b[38;5;241m=\u001b[39m a[k] \u001b[38;5;241m*\u001b[39m np\u001b[38;5;241m.\u001b[39mcos(k \u001b[38;5;241m*\u001b[39m fac)\n\u001b[0;32m    125\u001b[0m \u001b[38;5;28;01mreturn\u001b[39;00m _truncate(w, needs_trunc)\n",
      "\u001b[1;31mKeyboardInterrupt\u001b[0m: "
     ]
    }
   ],
   "source": [
    "create_output_dirs()\n",
    "\n",
    "# Iterate over each genre directory\n",
    "for genre in os.listdir(INPUT_DIR):\n",
    "    print(f'Genre: {genre}')\n",
    "    genre_dir = os.path.join(INPUT_DIR, genre)\n",
    "    if not os.path.isdir(genre_dir):\n",
    "        continue  # skip non-directory files\n",
    "    \n",
    "    # Process each audio file in the genre directory\n",
    "    for filename in tqdm(os.listdir(genre_dir), desc=f\"Processing {genre}\", leave=False):\n",
    "        if filename.lower().endswith((\".wav\", \".mp3\", \".au\")):  # add more extensions if needed\n",
    "            filepath = os.path.join(genre_dir, filename)\n",
    "            process_audio_file(filepath, genre)\n"
   ]
  }
 ],
 "metadata": {
  "kernelspec": {
   "display_name": "diaml_04",
   "language": "python",
   "name": "python3"
  },
  "language_info": {
   "codemirror_mode": {
    "name": "ipython",
    "version": 3
   },
   "file_extension": ".py",
   "mimetype": "text/x-python",
   "name": "python",
   "nbconvert_exporter": "python",
   "pygments_lexer": "ipython3",
   "version": "3.12.7"
  }
 },
 "nbformat": 4,
 "nbformat_minor": 2
}
