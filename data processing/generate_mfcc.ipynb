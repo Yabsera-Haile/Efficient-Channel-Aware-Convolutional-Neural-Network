{
 "cells": [
  {
   "cell_type": "code",
   "execution_count": 1,
   "metadata": {},
   "outputs": [],
   "source": [
    "import os\n",
    "import random\n",
    "import librosa\n",
    "import librosa.display\n",
    "import numpy as np\n",
    "import matplotlib.pyplot as plt"
   ]
  },
  {
   "cell_type": "code",
   "execution_count": 2,
   "metadata": {},
   "outputs": [],
   "source": [
    "# Set parameters\n",
    "INPUT_DIR = \"../dataset/raw data\"  # Folder containing genre subdirectories with 30-second audio files\n",
    "OUTPUT_DIR = \"../dataset/melspectrograms\"  # Folder where generated images will be saved\n",
    "\n",
    "# Define the split ratios (e.g., 70% train, 15% validation, 15% test)\n",
    "SPLIT_RATIOS = {\"train\": 0.7, \"validation\": 0.15, \"test\": 0.15}\n",
    "\n",
    "# Audio processing parameters\n",
    "SAMPLE_RATE = 22050       \n",
    "SEGMENT_DURATION = 3      # seconds\n",
    "NUM_SEGMENTS = 10         # since 30s / 3s = 10 segments per audio file\n",
    "\n",
    "# Mel spectrogram parameters\n",
    "N_MELS = 128\n",
    "N_FFT = 2048\n",
    "HOP_LENGTH = 512"
   ]
  },
  {
   "cell_type": "code",
   "execution_count": 3,
   "metadata": {},
   "outputs": [],
   "source": [
    "\n",
    "def create_output_dirs():\n",
    "    \"\"\"Create train, validation, and test directories for each genre.\"\"\"\n",
    "    for split in SPLIT_RATIOS.keys():\n",
    "        for genre in os.listdir(INPUT_DIR):\n",
    "            genre_dir = os.path.join(INPUT_DIR, genre)\n",
    "            if os.path.isdir(genre_dir):\n",
    "                output_genre_dir = os.path.join(OUTPUT_DIR, split, genre)\n",
    "                os.makedirs(output_genre_dir, exist_ok=True)\n",
    "\n"
   ]
  },
  {
   "cell_type": "code",
   "execution_count": 4,
   "metadata": {},
   "outputs": [],
   "source": [
    "def assign_split():\n",
    "    \"\"\"Randomly assign a segment to train, validation, or test based on SPLIT_RATIOS.\"\"\"\n",
    "    rnd = random.random()\n",
    "    cumulative = 0.0\n",
    "    for split, ratio in SPLIT_RATIOS.items():\n",
    "        cumulative += ratio\n",
    "        if rnd < cumulative:\n",
    "            return split\n",
    "    return \"train\"  # fallback\n",
    "\n"
   ]
  },
  {
   "cell_type": "code",
   "execution_count": 5,
   "metadata": {},
   "outputs": [],
   "source": [
    "def save_mel_spectrogram(mel_db, sr, output_filepath):\n",
    "    \"\"\"Save the Mel spectrogram as a JPEG image without axes.\"\"\"\n",
    "    plt.figure(figsize=(3, 3))\n",
    "    # Display the spectrogram; you can adjust the colormap if desired\n",
    "    librosa.display.specshow(mel_db, sr=sr, hop_length=HOP_LENGTH, \n",
    "                             x_axis='time', y_axis='mel', cmap='viridis')\n",
    "    plt.axis('off')\n",
    "    plt.tight_layout(pad=0)\n",
    "    plt.savefig(output_filepath, bbox_inches='tight', pad_inches=0)\n",
    "    plt.close()\n",
    "\n"
   ]
  },
  {
   "cell_type": "code",
   "execution_count": 6,
   "metadata": {},
   "outputs": [],
   "source": [
    "def process_audio_file(filepath, genre):\n",
    "    \"\"\"Load an audio file, split into segments, generate and save Mel spectrograms.\"\"\"\n",
    "    try:\n",
    "        # Load the full audio file\n",
    "        y, sr = librosa.load(filepath, sr=SAMPLE_RATE)\n",
    "        total_samples = len(y)\n",
    "        samples_per_segment = int(SAMPLE_RATE * SEGMENT_DURATION)\n",
    "        \n",
    "        # Ensure the audio file has the expected length\n",
    "        if total_samples < samples_per_segment * NUM_SEGMENTS:\n",
    "            print(f\"Warning: {filepath} is shorter than expected.\")\n",
    "            return\n",
    "        \n",
    "        # Process each segment\n",
    "        for i in range(NUM_SEGMENTS):\n",
    "            start = i * samples_per_segment\n",
    "            end = start + samples_per_segment\n",
    "            segment = y[start:end]\n",
    "            \n",
    "            # Compute the Mel spectrogram\n",
    "            mel_spec = librosa.feature.melspectrogram(y=segment, sr=sr, n_fft=N_FFT,\n",
    "                                                      hop_length=HOP_LENGTH, n_mels=N_MELS)\n",
    "            # Convert to decibels for visualization\n",
    "            mel_db = librosa.power_to_db(mel_spec, ref=np.max)\n",
    "            \n",
    "            # Assign the segment to a split\n",
    "            split = assign_split()\n",
    "            # Construct the output filepath. Using the original file's basename (without extension)\n",
    "            base_filename = os.path.splitext(os.path.basename(filepath))[0]\n",
    "            output_filename = f\"{base_filename}_segment{i+1}.jpg\"\n",
    "            output_path = os.path.join(OUTPUT_DIR, split, genre, output_filename)\n",
    "            \n",
    "            # Save the spectrogram as a jpg file\n",
    "            save_mel_spectrogram(mel_db, sr, output_path)\n",
    "            print(f\"Saved: {output_path}\")\n",
    "    except Exception as e:\n",
    "        print(f\"Error processing {filepath}: {e}\")\n",
    "\n"
   ]
  },
  {
   "cell_type": "code",
   "execution_count": null,
   "metadata": {},
   "outputs": [],
   "source": [
    "\n",
    "create_output_dirs()\n",
    "\n",
    "# Iterate over each genre directory\n",
    "for genre in os.listdir(INPUT_DIR):\n",
    "    genre_dir = os.path.join(INPUT_DIR, genre)\n",
    "    if not os.path.isdir(genre_dir):\n",
    "        continue  # skip non-directory files\n",
    "    \n",
    "    # Process each audio file in the genre directory\n",
    "    for filename in os.listdir(genre_dir):\n",
    "        if filename.lower().endswith((\".wav\", \".mp3\", \".au\")):  # add more extensions if needed\n",
    "            filepath = os.path.join(genre_dir, filename)\n",
    "            process_audio_file(filepath, genre)\n"
   ]
  }
 ],
 "metadata": {
  "kernelspec": {
   "display_name": "diaml_04",
   "language": "python",
   "name": "python3"
  },
  "language_info": {
   "codemirror_mode": {
    "name": "ipython",
    "version": 3
   },
   "file_extension": ".py",
   "mimetype": "text/x-python",
   "name": "python",
   "nbconvert_exporter": "python",
   "pygments_lexer": "ipython3",
   "version": "3.12.7"
  }
 },
 "nbformat": 4,
 "nbformat_minor": 2
}
