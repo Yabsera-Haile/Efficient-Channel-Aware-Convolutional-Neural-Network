{
 "cells": [
  {
   "cell_type": "code",
   "execution_count": 36,
   "metadata": {},
   "outputs": [],
   "source": [
    "import os\n",
    "import random\n",
    "import librosa\n",
    "import librosa.display\n",
    "import numpy as np\n",
    "import matplotlib.pyplot as plt\n",
    "from tqdm import tqdm"
   ]
  },
  {
   "cell_type": "code",
   "execution_count": 37,
   "metadata": {},
   "outputs": [],
   "source": [
    "# Set parameters\n",
    "INPUT_DIR = \"../dataset/raw data\"  # Folder containing genre subdirectories with 30-second audio files\n",
    "OUTPUT_DIR = \"../dataset/melspectrograms\"  # Folder where generated images will be saved\n",
    "\n",
    "SPLIT_RATIOS = {\"train\": 0.8, \"validation\": 0.1, \"test\": 0.1}\n",
    "\n",
    "# Audio processing parameters\n",
    "SAMPLE_RATE = 22050       \n",
    "SEGMENT_DURATION = 3      \n",
    "NUM_SEGMENTS = 10        \n",
    "N_MELS = 128\n",
    "N_FFT = 2048\n",
    "HOP_LENGTH = 512"
   ]
  },
  {
   "cell_type": "code",
   "execution_count": 38,
   "metadata": {},
   "outputs": [],
   "source": [
    "\n",
    "def create_output_dirs():\n",
    "    \"\"\"Create train, validation, and test directories for each genre.\"\"\"\n",
    "    for split in SPLIT_RATIOS.keys():\n",
    "        for genre in os.listdir(INPUT_DIR):\n",
    "            genre_dir = os.path.join(INPUT_DIR, genre)\n",
    "            if os.path.isdir(genre_dir):\n",
    "                output_genre_dir = os.path.join(OUTPUT_DIR, split, genre)\n",
    "                os.makedirs(output_genre_dir, exist_ok=True)\n",
    "\n"
   ]
  },
  {
   "cell_type": "code",
   "execution_count": 39,
   "metadata": {},
   "outputs": [],
   "source": [
    "def save_mel_spectrogram(mel_db, sr, output_filepath):\n",
    "    \"\"\"Save the Mel spectrogram as a JPEG image without axes.\"\"\"\n",
    "    plt.figure(figsize=(3, 3))\n",
    "    librosa.display.specshow(mel_db, sr=sr, hop_length=HOP_LENGTH, \n",
    "                             x_axis='time', y_axis='mel', cmap='viridis')\n",
    "    plt.axis('off')\n",
    "    plt.tight_layout(pad=0)\n",
    "    plt.savefig(output_filepath, bbox_inches='tight', pad_inches=0)\n",
    "    plt.close()\n",
    "\n"
   ]
  },
  {
   "cell_type": "code",
   "execution_count": 40,
   "metadata": {},
   "outputs": [],
   "source": [
    "def process_audio_file(filepath):\n",
    "    \"\"\"Load an audio file, split it into segments, compute Mel spectrograms, and return a list of segment data.\"\"\"\n",
    "    segments = []\n",
    "    try:\n",
    "        y, sr = librosa.load(filepath, sr=SAMPLE_RATE)\n",
    "        total_samples = len(y)\n",
    "        samples_per_segment = int(SAMPLE_RATE * SEGMENT_DURATION)\n",
    "        # Check if audio file length is as expected (or longer)\n",
    "        # if total_samples < samples_per_segment * NUM_SEGMENTS:\n",
    "        #     print(f\"Warning: {filepath} is shorter than expected 30 seconds.\")\n",
    "        #     return segments\n",
    "        \n",
    "        base_filename = os.path.splitext(os.path.basename(filepath))[0]\n",
    "        # Process each segment\n",
    "        for i in range(NUM_SEGMENTS):\n",
    "            start = i * samples_per_segment\n",
    "            end = start + samples_per_segment\n",
    "            segment = y[start:end]\n",
    "            \n",
    "            # Compute the Mel spectrogram\n",
    "            mel_spec = librosa.feature.melspectrogram(y=segment, sr=sr, n_fft=N_FFT,\n",
    "                                                      hop_length=HOP_LENGTH, n_mels=N_MELS)\n",
    "            mel_db = librosa.power_to_db(mel_spec, ref=np.max)\n",
    "            \n",
    "            segment_data = {\n",
    "                \"base_filename\": base_filename,\n",
    "                \"segment_index\": i + 1,\n",
    "                \"mel_db\": mel_db,\n",
    "                \"sr\": sr\n",
    "            }\n",
    "            segments.append(segment_data)\n",
    "    except Exception as e:\n",
    "        print(f\"Error processing {filepath}: {e}\")\n",
    "    return segments\n"
   ]
  },
  {
   "cell_type": "code",
   "execution_count": 41,
   "metadata": {},
   "outputs": [],
   "source": [
    "def collect_all_segments():\n",
    "    \"\"\"Iterate over all genres and audio files to extract segments and organize them by genre.\"\"\"\n",
    "    print(\"Collecting Segments\")\n",
    "    segments_by_genre = {}\n",
    "    for genre in os.listdir(INPUT_DIR):\n",
    "        genre_path = os.path.join(INPUT_DIR, genre)\n",
    "        if not os.path.isdir(genre_path):\n",
    "            continue  # skip non-directory files\n",
    "        segments_by_genre[genre] = []\n",
    "        for filename in tqdm(os.listdir(genre_path), desc=f\"Processing {genre}\", leave=False):\n",
    "            if filename.lower().endswith((\".wav\", \".mp3\", \".au\")):  # add extensions if needed\n",
    "                filepath = os.path.join(genre_path, filename)\n",
    "                segments = process_audio_file(filepath)\n",
    "                segments_by_genre[genre].extend(segments)\n",
    "        print(f'Genre {genre} Complete')\n",
    "    return segments_by_genre"
   ]
  },
  {
   "cell_type": "code",
   "execution_count": 42,
   "metadata": {},
   "outputs": [],
   "source": [
    "def split_segments(segments):\n",
    "    \"\"\"\n",
    "    Split a list of segments into train, validation, and test subsets exactly according\n",
    "    to SPLIT_RATIOS. Returns a dictionary with keys 'train', 'validation', and 'test'.\n",
    "    \"\"\"\n",
    "    total = len(segments)\n",
    "    # Calculate counts using integer math. The remainder is added to test.\n",
    "    train_count = int(total * SPLIT_RATIOS[\"train\"])\n",
    "    validation_count = int(total * SPLIT_RATIOS[\"validation\"])\n",
    "    test_count = total - train_count - validation_count\n",
    "    \n",
    "    # Shuffle segments before splitting\n",
    "    random.shuffle(segments)\n",
    "    return {\n",
    "        \"train\": segments[:train_count],\n",
    "        \"validation\": segments[train_count:train_count+validation_count],\n",
    "        \"test\": segments[train_count+validation_count:]\n",
    "    }"
   ]
  },
  {
   "cell_type": "code",
   "execution_count": null,
   "metadata": {},
   "outputs": [
    {
     "name": "stdout",
     "output_type": "stream",
     "text": [
      "Collecting Segments\n"
     ]
    },
    {
     "name": "stderr",
     "output_type": "stream",
     "text": [
      "Processing blues:   0%|          | 0/100 [00:00<?, ?it/s]"
     ]
    },
    {
     "name": "stderr",
     "output_type": "stream",
     "text": [
      "                                                                  \r"
     ]
    },
    {
     "name": "stdout",
     "output_type": "stream",
     "text": [
      "Genre blues Complete\n"
     ]
    },
    {
     "name": "stderr",
     "output_type": "stream",
     "text": [
      "                                                                       \r"
     ]
    },
    {
     "name": "stdout",
     "output_type": "stream",
     "text": [
      "Genre classical Complete\n"
     ]
    },
    {
     "name": "stderr",
     "output_type": "stream",
     "text": [
      "                                                                     \r"
     ]
    },
    {
     "name": "stdout",
     "output_type": "stream",
     "text": [
      "Genre country Complete\n"
     ]
    },
    {
     "name": "stderr",
     "output_type": "stream",
     "text": [
      "                                                                   \r"
     ]
    },
    {
     "name": "stdout",
     "output_type": "stream",
     "text": [
      "Genre disco Complete\n"
     ]
    },
    {
     "name": "stderr",
     "output_type": "stream",
     "text": [
      "                                                                    \r"
     ]
    },
    {
     "name": "stdout",
     "output_type": "stream",
     "text": [
      "Genre hiphop Complete\n"
     ]
    },
    {
     "name": "stderr",
     "output_type": "stream",
     "text": [
      "                                                                \r"
     ]
    },
    {
     "name": "stdout",
     "output_type": "stream",
     "text": [
      "Genre jazz Complete\n"
     ]
    },
    {
     "name": "stderr",
     "output_type": "stream",
     "text": [
      "                                                                   \r"
     ]
    },
    {
     "name": "stdout",
     "output_type": "stream",
     "text": [
      "Genre metal Complete\n"
     ]
    },
    {
     "name": "stderr",
     "output_type": "stream",
     "text": [
      "                                                                \r"
     ]
    },
    {
     "name": "stdout",
     "output_type": "stream",
     "text": [
      "Genre pop Complete\n"
     ]
    },
    {
     "name": "stderr",
     "output_type": "stream",
     "text": [
      "                                                                   \r"
     ]
    },
    {
     "name": "stdout",
     "output_type": "stream",
     "text": [
      "Genre reggae Complete\n"
     ]
    },
    {
     "name": "stderr",
     "output_type": "stream",
     "text": [
      "                                                                  \r"
     ]
    },
    {
     "name": "stdout",
     "output_type": "stream",
     "text": [
      "Genre rock Complete\n",
      "Genre blues Saved\n",
      "Number of Test Segment: 100\n",
      "Number of Train Segment: 800\n"
     ]
    },
    {
     "ename": "KeyError",
     "evalue": "'validate'",
     "output_type": "error",
     "traceback": [
      "\u001b[1;31m---------------------------------------------------------------------------\u001b[0m",
      "\u001b[1;31mKeyError\u001b[0m                                  Traceback (most recent call last)",
      "Cell \u001b[1;32mIn[43], line 19\u001b[0m\n\u001b[0;32m     17\u001b[0m \u001b[38;5;28mprint\u001b[39m(\u001b[38;5;124mf\u001b[39m\u001b[38;5;124m'\u001b[39m\u001b[38;5;124mNumber of Test Segment: \u001b[39m\u001b[38;5;132;01m{\u001b[39;00m\u001b[38;5;28mlen\u001b[39m(split_dict[\u001b[38;5;124m'\u001b[39m\u001b[38;5;124mtest\u001b[39m\u001b[38;5;124m'\u001b[39m])\u001b[38;5;132;01m}\u001b[39;00m\u001b[38;5;124m'\u001b[39m)\n\u001b[0;32m     18\u001b[0m \u001b[38;5;28mprint\u001b[39m(\u001b[38;5;124mf\u001b[39m\u001b[38;5;124m'\u001b[39m\u001b[38;5;124mNumber of Train Segment: \u001b[39m\u001b[38;5;132;01m{\u001b[39;00m\u001b[38;5;28mlen\u001b[39m(split_dict[\u001b[38;5;124m'\u001b[39m\u001b[38;5;124mtrain\u001b[39m\u001b[38;5;124m'\u001b[39m])\u001b[38;5;132;01m}\u001b[39;00m\u001b[38;5;124m'\u001b[39m)\n\u001b[1;32m---> 19\u001b[0m \u001b[38;5;28mprint\u001b[39m(\u001b[38;5;124mf\u001b[39m\u001b[38;5;124m'\u001b[39m\u001b[38;5;124mNumber of Validate Segment: \u001b[39m\u001b[38;5;132;01m{\u001b[39;00m\u001b[38;5;28mlen\u001b[39m(\u001b[43msplit_dict\u001b[49m\u001b[43m[\u001b[49m\u001b[38;5;124;43m'\u001b[39;49m\u001b[38;5;124;43mvalidate\u001b[39;49m\u001b[38;5;124;43m'\u001b[39;49m\u001b[43m]\u001b[49m)\u001b[38;5;132;01m}\u001b[39;00m\u001b[38;5;124m'\u001b[39m)\n",
      "\u001b[1;31mKeyError\u001b[0m: 'validate'"
     ]
    }
   ],
   "source": [
    "create_output_dirs()\n",
    "# Collect all segments organized by genre\n",
    "segments_by_genre = collect_all_segments()\n",
    "\n",
    "# For each genre, split the segments exactly as per the defined ratios and save images\n",
    "for genre, segments in segments_by_genre.items():\n",
    "    if not segments:\n",
    "        continue\n",
    "    split_dict = split_segments(segments)\n",
    "    for split, seg_list in split_dict.items():\n",
    "        for seg in seg_list:\n",
    "            output_filename = f\"{seg['base_filename']}_segment{seg['segment_index']}.jpg\"\n",
    "            output_path = os.path.join(OUTPUT_DIR, split, genre, output_filename)\n",
    "            save_mel_spectrogram(seg[\"mel_db\"], seg[\"sr\"], output_path)\n",
    "            # print(f\"Saved: {output_path}\")\n",
    "    print(f'Genre {genre} Saved')\n",
    "    print(f'Number of Test Segment: {len(split_dict['test'])}')\n",
    "    print(f'Number of Train Segment: {len(split_dict['train'])}')\n",
    "    print(f'Number of Validate Segment: {len(split_dict['validation'])}')\n",
    "\n",
    "\n"
   ]
  }
 ],
 "metadata": {
  "kernelspec": {
   "display_name": "diaml_04",
   "language": "python",
   "name": "python3"
  },
  "language_info": {
   "codemirror_mode": {
    "name": "ipython",
    "version": 3
   },
   "file_extension": ".py",
   "mimetype": "text/x-python",
   "name": "python",
   "nbconvert_exporter": "python",
   "pygments_lexer": "ipython3",
   "version": "3.12.7"
  }
 },
 "nbformat": 4,
 "nbformat_minor": 2
}
