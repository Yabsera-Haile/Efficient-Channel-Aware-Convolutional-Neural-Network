{
 "cells": [
  {
   "cell_type": "code",
   "execution_count": 1,
   "id": "1b7725b5",
   "metadata": {
    "_cell_guid": "b1076dfc-b9ad-4769-8c92-a6c4dae69d19",
    "_uuid": "8f2839f25d086af736a60e9eeb907d3b93b6e0e5",
    "execution": {
     "iopub.execute_input": "2025-04-24T22:03:16.162804Z",
     "iopub.status.busy": "2025-04-24T22:03:16.162539Z",
     "iopub.status.idle": "2025-04-24T22:03:22.199082Z",
     "shell.execute_reply": "2025-04-24T22:03:22.198243Z"
    },
    "papermill": {
     "duration": 6.041541,
     "end_time": "2025-04-24T22:03:22.200557",
     "exception": false,
     "start_time": "2025-04-24T22:03:16.159016",
     "status": "completed"
    },
    "tags": []
   },
   "outputs": [],
   "source": [
    "import os\n",
    "import torch\n",
    "import torch.nn as nn\n",
    "import torch.optim as optim\n",
    "from torch.utils.data import Dataset, DataLoader\n",
    "from PIL import Image\n",
    "import numpy as np\n",
    "from tqdm import tqdm\n",
    "import torch.nn.functional as F\n",
    "from torch.optim import SGD\n",
    "from torch.optim.lr_scheduler import CosineAnnealingLR, OneCycleLR\n",
    "from sklearn.metrics import accuracy_score, precision_score, recall_score, f1_score\n",
    "import matplotlib.pyplot as plt\n",
    "\n",
    "class MelSpectrogramDataset(Dataset):\n",
    "    def __init__(self, root_dir):\n",
    "        self.root_dir = root_dir\n",
    "        self.classes = os.listdir(root_dir)\n",
    "        self.data = []\n",
    "        self.labels = []\n",
    "        \n",
    "        for idx, genre in enumerate(self.classes):\n",
    "            genre_path = os.path.join(root_dir, genre)\n",
    "            for file in os.listdir(genre_path):\n",
    "                self.data.append(os.path.join(genre_path, file))\n",
    "                self.labels.append(idx)\n",
    "\n",
    "    def __len__(self):\n",
    "        return len(self.data)\n",
    "\n",
    "    def __getitem__(self, idx):\n",
    "        img_path = self.data[idx]\n",
    "        img = Image.open(img_path).convert('RGB') \n",
    "        img = np.array(img) \n",
    "        img = img.transpose((2, 0, 1))  \n",
    "        img = torch.from_numpy(img).float()  \n",
    "        label = self.labels[idx]\n",
    "        return img, label\n",
    "\n",
    "# Enhanced Residual Block with Squeeze-and-Excitation\n",
    "class SEResidualBlock(nn.Module):\n",
    "    def __init__(self, in_channels, reduction=16):\n",
    "        super().__init__()\n",
    "        # Main convolution path\n",
    "        self.conv1 = nn.Conv2d(in_channels, in_channels, 3, padding=1)\n",
    "        self.bn1 = nn.BatchNorm2d(in_channels)\n",
    "        self.conv2 = nn.Conv2d(in_channels, in_channels, 3, padding=1)\n",
    "        self.bn2 = nn.BatchNorm2d(in_channels)\n",
    "        \n",
    "        # Squeeze and excitation path\n",
    "        self.se = nn.Sequential(\n",
    "            nn.AdaptiveAvgPool2d(1),\n",
    "            nn.Conv2d(in_channels, in_channels // reduction, 1),\n",
    "            nn.ReLU(inplace=True),\n",
    "            nn.Conv2d(in_channels // reduction, in_channels, 1),\n",
    "            nn.Sigmoid()\n",
    "        )\n",
    "        \n",
    "    def forward(self, x):\n",
    "        residual = x\n",
    "        \n",
    "        out = F.relu(self.bn1(self.conv1(x)))\n",
    "        out = self.bn2(self.conv2(out))\n",
    "        \n",
    "        # Apply SE attention\n",
    "        se_weight = self.se(out)\n",
    "        out = out * se_weight\n",
    "        \n",
    "        out += residual\n",
    "        return F.relu(out)\n",
    "\n",
    "# Enhanced CNN with deeper architecture and SE blocks\n",
    "class EnhancedCNN(nn.Module):\n",
    "    def __init__(self, dropout_rate=0.5):\n",
    "        super().__init__()\n",
    "        \n",
    "        # Initial convolution block\n",
    "        self.initial = nn.Sequential(\n",
    "            nn.Conv2d(3, 64, 3, padding=1),\n",
    "            nn.BatchNorm2d(64),\n",
    "            nn.ReLU(),\n",
    "            nn.MaxPool2d(2)\n",
    "        )\n",
    "        \n",
    "        # First stage - 64 channels\n",
    "        self.stage1 = nn.Sequential(\n",
    "            nn.Conv2d(64, 64, 3, padding=1),\n",
    "            nn.BatchNorm2d(64),\n",
    "            nn.ReLU(),\n",
    "            SEResidualBlock(64),\n",
    "            nn.MaxPool2d(2)\n",
    "        )\n",
    "        \n",
    "        # Second stage - 128 channels\n",
    "        self.stage2 = nn.Sequential(\n",
    "            nn.Conv2d(64, 128, 3, padding=1),\n",
    "            nn.BatchNorm2d(128),\n",
    "            nn.ReLU(),\n",
    "            SEResidualBlock(128),\n",
    "            nn.MaxPool2d(2)\n",
    "        )\n",
    "        \n",
    "        # Third stage - 256 channels\n",
    "        self.stage3 = nn.Sequential(\n",
    "            nn.Conv2d(128, 256, 3, padding=1),\n",
    "            nn.BatchNorm2d(256),\n",
    "            nn.ReLU(),\n",
    "            SEResidualBlock(256),\n",
    "            nn.MaxPool2d(2)\n",
    "        )\n",
    "        \n",
    "        # Adaptive pooling to handle different input sizes\n",
    "        self.pool = nn.AdaptiveAvgPool2d((4, 4))\n",
    "        \n",
    "        # Classifier\n",
    "        self.classifier = nn.Sequential(\n",
    "            nn.Flatten(),\n",
    "            nn.Linear(256 * 4 * 4, 512),\n",
    "            nn.ReLU(),\n",
    "            nn.Dropout(dropout_rate),\n",
    "            nn.Linear(512, 256),\n",
    "            nn.ReLU(),\n",
    "            nn.Dropout(dropout_rate),\n",
    "            nn.Linear(256, 10)\n",
    "        )\n",
    "        \n",
    "    def forward(self, x):\n",
    "        x = self.initial(x)\n",
    "        x = self.stage1(x)\n",
    "        x = self.stage2(x)\n",
    "        x = self.stage3(x)\n",
    "        x = self.pool(x)\n",
    "        x = self.classifier(x)\n",
    "        return x"
   ]
  },
  {
   "cell_type": "code",
   "execution_count": null,
   "id": "7c4a491f",
   "metadata": {
    "execution": {
     "iopub.execute_input": "2025-04-24T22:03:22.205817Z",
     "iopub.status.busy": "2025-04-24T22:03:22.205497Z",
     "iopub.status.idle": "2025-04-24T22:03:27.570953Z",
     "shell.execute_reply": "2025-04-24T22:03:27.570299Z"
    },
    "papermill": {
     "duration": 5.369312,
     "end_time": "2025-04-24T22:03:27.572398",
     "exception": false,
     "start_time": "2025-04-24T22:03:22.203086",
     "status": "completed"
    },
    "tags": []
   },
   "outputs": [],
   "source": [
    "# Data paths\n",
    "train_dir = '/kaggle/input/mel-spectrogram-for-gtzn-dataset/melspectrograms/train'\n",
    "val_dir = '/kaggle/input/mel-spectrogram-for-gtzn-dataset/melspectrograms/validation'\n",
    "test_dir = '/kaggle/input/mel-spectrogram-for-gtzn-dataset/melspectrograms/test'\n",
    "\n",
    "# Create datasets\n",
    "train_dataset = MelSpectrogramDataset(train_dir)\n",
    "val_dataset = MelSpectrogramDataset(val_dir)\n",
    "test_dataset = MelSpectrogramDataset(test_dir)\n",
    "\n",
    "# Data loaders\n",
    "train_loader = DataLoader(train_dataset, batch_size=32, shuffle=True)\n",
    "val_loader = DataLoader(val_dataset, batch_size=32, shuffle=False)\n",
    "test_loader = DataLoader(test_dataset, batch_size=32, shuffle=False)\n",
    "\n",
    "# Initialize model\n",
    "model = EnhancedCNN(dropout_rate=0.5)\n",
    "device = torch.device('cuda' if torch.cuda.is_available() else 'cpu')\n",
    "model.to(device)\n",
    "\n",
    "# SGD optimizer with momentum and weight decay\n",
    "optimizer = SGD(model.parameters(), \n",
    "               lr=0.008, \n",
    "               momentum=0.9, \n",
    "               weight_decay=2e-4)  \n",
    "\n",
    "# OneCycleLR for potentially better convergence\n",
    "scheduler = OneCycleLR(optimizer, \n",
    "                       max_lr=0.01, \n",
    "                       steps_per_epoch=len(train_loader), \n",
    "                       epochs=30,\n",
    "                       pct_start=0.3)  # Warm up for 30% of training"
   ]
  },
  {
   "cell_type": "code",
   "execution_count": 3,
   "id": "805a3ebb",
   "metadata": {
    "execution": {
     "iopub.execute_input": "2025-04-24T22:03:27.577764Z",
     "iopub.status.busy": "2025-04-24T22:03:27.577203Z",
     "iopub.status.idle": "2025-04-24T23:11:25.964885Z",
     "shell.execute_reply": "2025-04-24T23:11:25.963909Z"
    },
    "papermill": {
     "duration": 4078.391608,
     "end_time": "2025-04-24T23:11:25.966186",
     "exception": false,
     "start_time": "2025-04-24T22:03:27.574578",
     "status": "completed"
    },
    "tags": []
   },
   "outputs": [
    {
     "name": "stderr",
     "output_type": "stream",
     "text": [
      "Epoch 1/30: 100%|██████████| 250/250 [02:31<00:00,  1.65it/s, loss=1.4526]\n"
     ]
    },
    {
     "name": "stdout",
     "output_type": "stream",
     "text": [
      "Training Loss: 2.0440\n"
     ]
    },
    {
     "name": "stderr",
     "output_type": "stream",
     "text": [
      "Validation: 100%|██████████| 32/32 [00:09<00:00,  3.28it/s]\n"
     ]
    },
    {
     "name": "stdout",
     "output_type": "stream",
     "text": [
      "Validation Loss: 1.6285, Accuracy: 0.4054, Precision: 0.4540, Recall: 0.4055, F1-Score: 0.3737\n",
      "Model saved at epoch 1 with accuracy 0.4054\n"
     ]
    },
    {
     "name": "stderr",
     "output_type": "stream",
     "text": [
      "Epoch 2/30: 100%|██████████| 250/250 [02:08<00:00,  1.95it/s, loss=1.0365]\n"
     ]
    },
    {
     "name": "stdout",
     "output_type": "stream",
     "text": [
      "Training Loss: 1.5342\n"
     ]
    },
    {
     "name": "stderr",
     "output_type": "stream",
     "text": [
      "Validation: 100%|██████████| 32/32 [00:06<00:00,  4.67it/s]\n"
     ]
    },
    {
     "name": "stdout",
     "output_type": "stream",
     "text": [
      "Validation Loss: 1.4389, Accuracy: 0.4545, Precision: 0.5040, Recall: 0.4544, F1-Score: 0.4349\n",
      "Model saved at epoch 2 with accuracy 0.4545\n"
     ]
    },
    {
     "name": "stderr",
     "output_type": "stream",
     "text": [
      "Epoch 3/30: 100%|██████████| 250/250 [02:08<00:00,  1.95it/s, loss=1.7873]\n"
     ]
    },
    {
     "name": "stdout",
     "output_type": "stream",
     "text": [
      "Training Loss: 1.3701\n"
     ]
    },
    {
     "name": "stderr",
     "output_type": "stream",
     "text": [
      "Validation: 100%|██████████| 32/32 [00:06<00:00,  4.77it/s]\n"
     ]
    },
    {
     "name": "stdout",
     "output_type": "stream",
     "text": [
      "Validation Loss: 1.6890, Accuracy: 0.3704, Precision: 0.5234, Recall: 0.3702, F1-Score: 0.3420\n"
     ]
    },
    {
     "name": "stderr",
     "output_type": "stream",
     "text": [
      "Epoch 4/30: 100%|██████████| 250/250 [02:07<00:00,  1.96it/s, loss=1.1604]\n"
     ]
    },
    {
     "name": "stdout",
     "output_type": "stream",
     "text": [
      "Training Loss: 1.2561\n"
     ]
    },
    {
     "name": "stderr",
     "output_type": "stream",
     "text": [
      "Validation: 100%|██████████| 32/32 [00:06<00:00,  4.76it/s]\n"
     ]
    },
    {
     "name": "stdout",
     "output_type": "stream",
     "text": [
      "Validation Loss: 1.3417, Accuracy: 0.5245, Precision: 0.6004, Recall: 0.5248, F1-Score: 0.4945\n",
      "Model saved at epoch 4 with accuracy 0.5245\n"
     ]
    },
    {
     "name": "stderr",
     "output_type": "stream",
     "text": [
      "Epoch 5/30: 100%|██████████| 250/250 [02:08<00:00,  1.95it/s, loss=0.7487]\n"
     ]
    },
    {
     "name": "stdout",
     "output_type": "stream",
     "text": [
      "Training Loss: 1.1644\n"
     ]
    },
    {
     "name": "stderr",
     "output_type": "stream",
     "text": [
      "Validation: 100%|██████████| 32/32 [00:06<00:00,  4.70it/s]\n"
     ]
    },
    {
     "name": "stdout",
     "output_type": "stream",
     "text": [
      "Validation Loss: 1.8071, Accuracy: 0.4224, Precision: 0.6149, Recall: 0.4221, F1-Score: 0.3776\n"
     ]
    },
    {
     "name": "stderr",
     "output_type": "stream",
     "text": [
      "Epoch 6/30: 100%|██████████| 250/250 [02:08<00:00,  1.95it/s, loss=0.9015]\n"
     ]
    },
    {
     "name": "stdout",
     "output_type": "stream",
     "text": [
      "Training Loss: 1.0818\n"
     ]
    },
    {
     "name": "stderr",
     "output_type": "stream",
     "text": [
      "Validation: 100%|██████████| 32/32 [00:06<00:00,  4.65it/s]\n"
     ]
    },
    {
     "name": "stdout",
     "output_type": "stream",
     "text": [
      "Validation Loss: 1.1575, Accuracy: 0.5906, Precision: 0.6475, Recall: 0.5902, F1-Score: 0.5576\n",
      "Model saved at epoch 6 with accuracy 0.5906\n"
     ]
    },
    {
     "name": "stderr",
     "output_type": "stream",
     "text": [
      "Epoch 7/30: 100%|██████████| 250/250 [02:08<00:00,  1.95it/s, loss=1.5300]\n"
     ]
    },
    {
     "name": "stdout",
     "output_type": "stream",
     "text": [
      "Training Loss: 1.0005\n"
     ]
    },
    {
     "name": "stderr",
     "output_type": "stream",
     "text": [
      "Validation: 100%|██████████| 32/32 [00:06<00:00,  4.73it/s]\n"
     ]
    },
    {
     "name": "stdout",
     "output_type": "stream",
     "text": [
      "Validation Loss: 1.7069, Accuracy: 0.4304, Precision: 0.5987, Recall: 0.4301, F1-Score: 0.3852\n"
     ]
    },
    {
     "name": "stderr",
     "output_type": "stream",
     "text": [
      "Epoch 8/30: 100%|██████████| 250/250 [02:08<00:00,  1.95it/s, loss=1.3461]\n"
     ]
    },
    {
     "name": "stdout",
     "output_type": "stream",
     "text": [
      "Training Loss: 0.9233\n"
     ]
    },
    {
     "name": "stderr",
     "output_type": "stream",
     "text": [
      "Validation: 100%|██████████| 32/32 [00:06<00:00,  4.64it/s]\n"
     ]
    },
    {
     "name": "stdout",
     "output_type": "stream",
     "text": [
      "Validation Loss: 1.6992, Accuracy: 0.5075, Precision: 0.6164, Recall: 0.5079, F1-Score: 0.5046\n"
     ]
    },
    {
     "name": "stderr",
     "output_type": "stream",
     "text": [
      "Epoch 9/30: 100%|██████████| 250/250 [02:08<00:00,  1.95it/s, loss=0.7821]\n"
     ]
    },
    {
     "name": "stdout",
     "output_type": "stream",
     "text": [
      "Training Loss: 0.8622\n"
     ]
    },
    {
     "name": "stderr",
     "output_type": "stream",
     "text": [
      "Validation: 100%|██████████| 32/32 [00:06<00:00,  4.79it/s]\n"
     ]
    },
    {
     "name": "stdout",
     "output_type": "stream",
     "text": [
      "Validation Loss: 0.8115, Accuracy: 0.7087, Precision: 0.7200, Recall: 0.7088, F1-Score: 0.7069\n",
      "Model saved at epoch 9 with accuracy 0.7087\n"
     ]
    },
    {
     "name": "stderr",
     "output_type": "stream",
     "text": [
      "Epoch 10/30: 100%|██████████| 250/250 [02:08<00:00,  1.95it/s, loss=0.9610]\n"
     ]
    },
    {
     "name": "stdout",
     "output_type": "stream",
     "text": [
      "Training Loss: 0.8018\n"
     ]
    },
    {
     "name": "stderr",
     "output_type": "stream",
     "text": [
      "Validation: 100%|██████████| 32/32 [00:06<00:00,  4.76it/s]\n"
     ]
    },
    {
     "name": "stdout",
     "output_type": "stream",
     "text": [
      "Validation Loss: 0.7743, Accuracy: 0.7417, Precision: 0.7701, Recall: 0.7418, F1-Score: 0.7492\n",
      "Model saved at epoch 10 with accuracy 0.7417\n"
     ]
    },
    {
     "name": "stderr",
     "output_type": "stream",
     "text": [
      "Epoch 11/30: 100%|██████████| 250/250 [02:08<00:00,  1.95it/s, loss=0.7525]\n"
     ]
    },
    {
     "name": "stdout",
     "output_type": "stream",
     "text": [
      "Training Loss: 0.7451\n"
     ]
    },
    {
     "name": "stderr",
     "output_type": "stream",
     "text": [
      "Validation: 100%|██████████| 32/32 [00:06<00:00,  4.66it/s]\n"
     ]
    },
    {
     "name": "stdout",
     "output_type": "stream",
     "text": [
      "Validation Loss: 0.9739, Accuracy: 0.6847, Precision: 0.7272, Recall: 0.6849, F1-Score: 0.6710\n"
     ]
    },
    {
     "name": "stderr",
     "output_type": "stream",
     "text": [
      "Epoch 12/30: 100%|██████████| 250/250 [02:07<00:00,  1.96it/s, loss=0.6122]\n"
     ]
    },
    {
     "name": "stdout",
     "output_type": "stream",
     "text": [
      "Training Loss: 0.6907\n"
     ]
    },
    {
     "name": "stderr",
     "output_type": "stream",
     "text": [
      "Validation: 100%|██████████| 32/32 [00:06<00:00,  4.67it/s]\n"
     ]
    },
    {
     "name": "stdout",
     "output_type": "stream",
     "text": [
      "Validation Loss: 0.8559, Accuracy: 0.6937, Precision: 0.7677, Recall: 0.6938, F1-Score: 0.6965\n"
     ]
    },
    {
     "name": "stderr",
     "output_type": "stream",
     "text": [
      "Epoch 13/30: 100%|██████████| 250/250 [02:08<00:00,  1.94it/s, loss=0.6023]\n"
     ]
    },
    {
     "name": "stdout",
     "output_type": "stream",
     "text": [
      "Training Loss: 0.6353\n"
     ]
    },
    {
     "name": "stderr",
     "output_type": "stream",
     "text": [
      "Validation: 100%|██████████| 32/32 [00:06<00:00,  4.73it/s]\n"
     ]
    },
    {
     "name": "stdout",
     "output_type": "stream",
     "text": [
      "Validation Loss: 1.2307, Accuracy: 0.6336, Precision: 0.7425, Recall: 0.6337, F1-Score: 0.6317\n"
     ]
    },
    {
     "name": "stderr",
     "output_type": "stream",
     "text": [
      "Epoch 14/30: 100%|██████████| 250/250 [02:08<00:00,  1.95it/s, loss=0.8618]\n"
     ]
    },
    {
     "name": "stdout",
     "output_type": "stream",
     "text": [
      "Training Loss: 0.6082\n"
     ]
    },
    {
     "name": "stderr",
     "output_type": "stream",
     "text": [
      "Validation: 100%|██████████| 32/32 [00:06<00:00,  4.76it/s]\n"
     ]
    },
    {
     "name": "stdout",
     "output_type": "stream",
     "text": [
      "Validation Loss: 1.0545, Accuracy: 0.6507, Precision: 0.7137, Recall: 0.6504, F1-Score: 0.6231\n"
     ]
    },
    {
     "name": "stderr",
     "output_type": "stream",
     "text": [
      "Epoch 15/30: 100%|██████████| 250/250 [02:08<00:00,  1.95it/s, loss=0.4209]\n"
     ]
    },
    {
     "name": "stdout",
     "output_type": "stream",
     "text": [
      "Training Loss: 0.5673\n"
     ]
    },
    {
     "name": "stderr",
     "output_type": "stream",
     "text": [
      "Validation: 100%|██████████| 32/32 [00:06<00:00,  4.79it/s]\n"
     ]
    },
    {
     "name": "stdout",
     "output_type": "stream",
     "text": [
      "Validation Loss: 0.7902, Accuracy: 0.7137, Precision: 0.7624, Recall: 0.7137, F1-Score: 0.7068\n"
     ]
    },
    {
     "name": "stderr",
     "output_type": "stream",
     "text": [
      "Epoch 16/30: 100%|██████████| 250/250 [02:08<00:00,  1.95it/s, loss=0.7414]\n"
     ]
    },
    {
     "name": "stdout",
     "output_type": "stream",
     "text": [
      "Training Loss: 0.5078\n"
     ]
    },
    {
     "name": "stderr",
     "output_type": "stream",
     "text": [
      "Validation: 100%|██████████| 32/32 [00:06<00:00,  4.74it/s]\n"
     ]
    },
    {
     "name": "stdout",
     "output_type": "stream",
     "text": [
      "Validation Loss: 0.6007, Accuracy: 0.8038, Precision: 0.8240, Recall: 0.8037, F1-Score: 0.8042\n",
      "Model saved at epoch 16 with accuracy 0.8038\n"
     ]
    },
    {
     "name": "stderr",
     "output_type": "stream",
     "text": [
      "Epoch 17/30: 100%|██████████| 250/250 [02:08<00:00,  1.95it/s, loss=0.4850]\n"
     ]
    },
    {
     "name": "stdout",
     "output_type": "stream",
     "text": [
      "Training Loss: 0.4575\n"
     ]
    },
    {
     "name": "stderr",
     "output_type": "stream",
     "text": [
      "Validation: 100%|██████████| 32/32 [00:06<00:00,  4.71it/s]\n"
     ]
    },
    {
     "name": "stdout",
     "output_type": "stream",
     "text": [
      "Validation Loss: 0.5274, Accuracy: 0.8118, Precision: 0.8367, Recall: 0.8119, F1-Score: 0.8123\n",
      "Model saved at epoch 17 with accuracy 0.8118\n"
     ]
    },
    {
     "name": "stderr",
     "output_type": "stream",
     "text": [
      "Epoch 18/30: 100%|██████████| 250/250 [02:07<00:00,  1.96it/s, loss=0.3239]\n"
     ]
    },
    {
     "name": "stdout",
     "output_type": "stream",
     "text": [
      "Training Loss: 0.4314\n"
     ]
    },
    {
     "name": "stderr",
     "output_type": "stream",
     "text": [
      "Validation: 100%|██████████| 32/32 [00:06<00:00,  4.81it/s]\n"
     ]
    },
    {
     "name": "stdout",
     "output_type": "stream",
     "text": [
      "Validation Loss: 0.7187, Accuracy: 0.7788, Precision: 0.8009, Recall: 0.7790, F1-Score: 0.7704\n"
     ]
    },
    {
     "name": "stderr",
     "output_type": "stream",
     "text": [
      "Epoch 19/30: 100%|██████████| 250/250 [02:07<00:00,  1.96it/s, loss=0.1583]\n"
     ]
    },
    {
     "name": "stdout",
     "output_type": "stream",
     "text": [
      "Training Loss: 0.3901\n"
     ]
    },
    {
     "name": "stderr",
     "output_type": "stream",
     "text": [
      "Validation: 100%|██████████| 32/32 [00:06<00:00,  4.83it/s]\n"
     ]
    },
    {
     "name": "stdout",
     "output_type": "stream",
     "text": [
      "Validation Loss: 0.5109, Accuracy: 0.8198, Precision: 0.8231, Recall: 0.8199, F1-Score: 0.8148\n",
      "Model saved at epoch 19 with accuracy 0.8198\n"
     ]
    },
    {
     "name": "stderr",
     "output_type": "stream",
     "text": [
      "Epoch 20/30: 100%|██████████| 250/250 [02:07<00:00,  1.95it/s, loss=0.7502]\n"
     ]
    },
    {
     "name": "stdout",
     "output_type": "stream",
     "text": [
      "Training Loss: 0.3558\n"
     ]
    },
    {
     "name": "stderr",
     "output_type": "stream",
     "text": [
      "Validation: 100%|██████████| 32/32 [00:06<00:00,  4.77it/s]\n"
     ]
    },
    {
     "name": "stdout",
     "output_type": "stream",
     "text": [
      "Validation Loss: 0.7015, Accuracy: 0.7898, Precision: 0.8172, Recall: 0.7899, F1-Score: 0.7830\n"
     ]
    },
    {
     "name": "stderr",
     "output_type": "stream",
     "text": [
      "Epoch 21/30: 100%|██████████| 250/250 [02:07<00:00,  1.96it/s, loss=0.4507]\n"
     ]
    },
    {
     "name": "stdout",
     "output_type": "stream",
     "text": [
      "Training Loss: 0.3263\n"
     ]
    },
    {
     "name": "stderr",
     "output_type": "stream",
     "text": [
      "Validation: 100%|██████████| 32/32 [00:06<00:00,  4.75it/s]\n"
     ]
    },
    {
     "name": "stdout",
     "output_type": "stream",
     "text": [
      "Validation Loss: 0.5843, Accuracy: 0.8138, Precision: 0.8415, Recall: 0.8140, F1-Score: 0.8162\n"
     ]
    },
    {
     "name": "stderr",
     "output_type": "stream",
     "text": [
      "Epoch 22/30: 100%|██████████| 250/250 [02:07<00:00,  1.95it/s, loss=0.1698]\n"
     ]
    },
    {
     "name": "stdout",
     "output_type": "stream",
     "text": [
      "Training Loss: 0.2809\n"
     ]
    },
    {
     "name": "stderr",
     "output_type": "stream",
     "text": [
      "Validation: 100%|██████████| 32/32 [00:06<00:00,  4.79it/s]\n"
     ]
    },
    {
     "name": "stdout",
     "output_type": "stream",
     "text": [
      "Validation Loss: 0.6529, Accuracy: 0.7938, Precision: 0.8553, Recall: 0.7940, F1-Score: 0.8002\n"
     ]
    },
    {
     "name": "stderr",
     "output_type": "stream",
     "text": [
      "Epoch 23/30: 100%|██████████| 250/250 [02:08<00:00,  1.95it/s, loss=0.1357]\n"
     ]
    },
    {
     "name": "stdout",
     "output_type": "stream",
     "text": [
      "Training Loss: 0.2417\n"
     ]
    },
    {
     "name": "stderr",
     "output_type": "stream",
     "text": [
      "Validation: 100%|██████████| 32/32 [00:06<00:00,  4.69it/s]\n"
     ]
    },
    {
     "name": "stdout",
     "output_type": "stream",
     "text": [
      "Validation Loss: 0.4168, Accuracy: 0.8689, Precision: 0.8733, Recall: 0.8690, F1-Score: 0.8687\n",
      "Model saved at epoch 23 with accuracy 0.8689\n"
     ]
    },
    {
     "name": "stderr",
     "output_type": "stream",
     "text": [
      "Epoch 24/30: 100%|██████████| 250/250 [02:08<00:00,  1.94it/s, loss=0.3732]\n"
     ]
    },
    {
     "name": "stdout",
     "output_type": "stream",
     "text": [
      "Training Loss: 0.2027\n"
     ]
    },
    {
     "name": "stderr",
     "output_type": "stream",
     "text": [
      "Validation: 100%|██████████| 32/32 [00:06<00:00,  4.64it/s]\n"
     ]
    },
    {
     "name": "stdout",
     "output_type": "stream",
     "text": [
      "Validation Loss: 0.6876, Accuracy: 0.8178, Precision: 0.8538, Recall: 0.8178, F1-Score: 0.8171\n"
     ]
    },
    {
     "name": "stderr",
     "output_type": "stream",
     "text": [
      "Epoch 25/30: 100%|██████████| 250/250 [02:08<00:00,  1.95it/s, loss=0.1618]\n"
     ]
    },
    {
     "name": "stdout",
     "output_type": "stream",
     "text": [
      "Training Loss: 0.1531\n"
     ]
    },
    {
     "name": "stderr",
     "output_type": "stream",
     "text": [
      "Validation: 100%|██████████| 32/32 [00:06<00:00,  4.76it/s]\n"
     ]
    },
    {
     "name": "stdout",
     "output_type": "stream",
     "text": [
      "Validation Loss: 0.3336, Accuracy: 0.8879, Precision: 0.8899, Recall: 0.8879, F1-Score: 0.8873\n",
      "Model saved at epoch 25 with accuracy 0.8879\n"
     ]
    },
    {
     "name": "stderr",
     "output_type": "stream",
     "text": [
      "Epoch 26/30: 100%|██████████| 250/250 [02:07<00:00,  1.96it/s, loss=0.1251]\n"
     ]
    },
    {
     "name": "stdout",
     "output_type": "stream",
     "text": [
      "Training Loss: 0.1290\n"
     ]
    },
    {
     "name": "stderr",
     "output_type": "stream",
     "text": [
      "Validation: 100%|██████████| 32/32 [00:06<00:00,  4.78it/s]\n"
     ]
    },
    {
     "name": "stdout",
     "output_type": "stream",
     "text": [
      "Validation Loss: 0.3411, Accuracy: 0.8939, Precision: 0.8987, Recall: 0.8939, F1-Score: 0.8940\n",
      "Model saved at epoch 26 with accuracy 0.8939\n"
     ]
    },
    {
     "name": "stderr",
     "output_type": "stream",
     "text": [
      "Epoch 27/30: 100%|██████████| 250/250 [02:08<00:00,  1.95it/s, loss=0.1087]\n"
     ]
    },
    {
     "name": "stdout",
     "output_type": "stream",
     "text": [
      "Training Loss: 0.0999\n"
     ]
    },
    {
     "name": "stderr",
     "output_type": "stream",
     "text": [
      "Validation: 100%|██████████| 32/32 [00:06<00:00,  4.68it/s]\n"
     ]
    },
    {
     "name": "stdout",
     "output_type": "stream",
     "text": [
      "Validation Loss: 0.2945, Accuracy: 0.9219, Precision: 0.9236, Recall: 0.9220, F1-Score: 0.9222\n",
      "Model saved at epoch 27 with accuracy 0.9219\n"
     ]
    },
    {
     "name": "stderr",
     "output_type": "stream",
     "text": [
      "Epoch 28/30: 100%|██████████| 250/250 [02:09<00:00,  1.94it/s, loss=0.0694]\n"
     ]
    },
    {
     "name": "stdout",
     "output_type": "stream",
     "text": [
      "Training Loss: 0.0822\n"
     ]
    },
    {
     "name": "stderr",
     "output_type": "stream",
     "text": [
      "Validation: 100%|██████████| 32/32 [00:06<00:00,  4.61it/s]\n"
     ]
    },
    {
     "name": "stdout",
     "output_type": "stream",
     "text": [
      "Validation Loss: 0.2817, Accuracy: 0.9179, Precision: 0.9219, Recall: 0.9180, F1-Score: 0.9192\n"
     ]
    },
    {
     "name": "stderr",
     "output_type": "stream",
     "text": [
      "Epoch 29/30: 100%|██████████| 250/250 [02:08<00:00,  1.94it/s, loss=0.1008]\n"
     ]
    },
    {
     "name": "stdout",
     "output_type": "stream",
     "text": [
      "Training Loss: 0.0638\n"
     ]
    },
    {
     "name": "stderr",
     "output_type": "stream",
     "text": [
      "Validation: 100%|██████████| 32/32 [00:06<00:00,  4.74it/s]\n"
     ]
    },
    {
     "name": "stdout",
     "output_type": "stream",
     "text": [
      "Validation Loss: 0.2808, Accuracy: 0.9139, Precision: 0.9161, Recall: 0.9140, F1-Score: 0.9145\n"
     ]
    },
    {
     "name": "stderr",
     "output_type": "stream",
     "text": [
      "Epoch 30/30: 100%|██████████| 250/250 [02:08<00:00,  1.94it/s, loss=0.0911]\n"
     ]
    },
    {
     "name": "stdout",
     "output_type": "stream",
     "text": [
      "Training Loss: 0.0649\n"
     ]
    },
    {
     "name": "stderr",
     "output_type": "stream",
     "text": [
      "Validation: 100%|██████████| 32/32 [00:06<00:00,  4.78it/s]"
     ]
    },
    {
     "name": "stdout",
     "output_type": "stream",
     "text": [
      "Validation Loss: 0.2819, Accuracy: 0.9109, Precision: 0.9134, Recall: 0.9110, F1-Score: 0.9115\n"
     ]
    },
    {
     "name": "stderr",
     "output_type": "stream",
     "text": [
      "\n"
     ]
    }
   ],
   "source": [
    "# Dictionary to store metrics\n",
    "metrics = {\n",
    "    'train_loss': [],\n",
    "    'val_loss': [],\n",
    "    'accuracy': [],\n",
    "    'precision': [],\n",
    "    'recall': [],\n",
    "    'f1': []\n",
    "}\n",
    "\n",
    "# Number of epochs\n",
    "num_epochs = 30\n",
    "\n",
    "# Training loop\n",
    "for epoch in range(num_epochs):\n",
    "    # Training phase\n",
    "    model.train()\n",
    "    running_loss = 0.0\n",
    "    pbar = tqdm(train_loader, desc=f'Epoch {epoch+1}/{num_epochs}')\n",
    "    \n",
    "    for X_batch, y_batch in pbar:\n",
    "        X_batch, y_batch = X_batch.to(device), y_batch.to(device)\n",
    "        \n",
    "        # Zero gradients\n",
    "        optimizer.zero_grad()\n",
    "        \n",
    "        # Forward pass\n",
    "        outputs = model(X_batch)\n",
    "        loss = nn.CrossEntropyLoss()(outputs, y_batch)\n",
    "        \n",
    "        # Backward pass and optimize\n",
    "        loss.backward()\n",
    "        optimizer.step()\n",
    "        \n",
    "        # Update LR using OneCycleLR\n",
    "        scheduler.step()\n",
    "        \n",
    "        # Update running loss\n",
    "        running_loss += loss.item()\n",
    "        pbar.set_postfix({'loss': f'{loss.item():.4f}'})\n",
    "    \n",
    "    # Calculate average training loss for this epoch\n",
    "    epoch_loss = running_loss / len(train_loader)\n",
    "    metrics['train_loss'].append(epoch_loss)\n",
    "    print(f'Training Loss: {epoch_loss:.4f}')\n",
    "    \n",
    "    # Validation phase\n",
    "    model.eval()\n",
    "    val_loss = 0.0\n",
    "    correct = 0\n",
    "    y_pred = []\n",
    "    y_true = []\n",
    "    \n",
    "    with torch.no_grad():\n",
    "        pbar_val = tqdm(val_loader, desc='Validation')\n",
    "        for X_batch, y_batch in pbar_val:\n",
    "            X_batch, y_batch = X_batch.to(device), y_batch.to(device)\n",
    "            \n",
    "            # Forward pass\n",
    "            outputs = model(X_batch)\n",
    "            loss = nn.CrossEntropyLoss()(outputs, y_batch)\n",
    "            \n",
    "            # Update validation loss\n",
    "            val_loss += loss.item()\n",
    "            \n",
    "            # Get predictions\n",
    "            _, predicted = torch.max(outputs, 1)\n",
    "            \n",
    "            # Update correct predictions count\n",
    "            correct += (predicted == y_batch).sum().item()\n",
    "            \n",
    "            # Store predictions and true labels for metrics\n",
    "            y_pred.extend(predicted.cpu().numpy())\n",
    "            y_true.extend(y_batch.cpu().numpy())\n",
    "        \n",
    "        # Calculate validation metrics\n",
    "        val_epoch_loss = val_loss / len(val_loader)\n",
    "        accuracy = correct / len(val_dataset)\n",
    "        precision = precision_score(y_true, y_pred, average='macro')\n",
    "        recall = recall_score(y_true, y_pred, average='macro')\n",
    "        f1 = f1_score(y_true, y_pred, average='macro')\n",
    "        \n",
    "        # Store metrics\n",
    "        metrics['val_loss'].append(val_epoch_loss)\n",
    "        metrics['accuracy'].append(accuracy)\n",
    "        metrics['precision'].append(precision)\n",
    "        metrics['recall'].append(recall)\n",
    "        metrics['f1'].append(f1)\n",
    "        \n",
    "        print(f'Validation Loss: {val_epoch_loss:.4f}, Accuracy: {accuracy:.4f}, Precision: {precision:.4f}, Recall: {recall:.4f}, F1-Score: {f1:.4f}')\n",
    "\n",
    "    # Save model if it's the best so far\n",
    "    if accuracy == max(metrics['accuracy']):\n",
    "        torch.save(model.state_dict(), 'best_model.pth')\n",
    "        print(f'Model saved at epoch {epoch+1} with accuracy {accuracy:.4f}')"
   ]
  },
  {
   "cell_type": "code",
   "execution_count": 4,
   "id": "5e87fa6c",
   "metadata": {
    "execution": {
     "iopub.execute_input": "2025-04-24T23:11:27.367316Z",
     "iopub.status.busy": "2025-04-24T23:11:27.367024Z",
     "iopub.status.idle": "2025-04-24T23:11:38.808221Z",
     "shell.execute_reply": "2025-04-24T23:11:38.807234Z"
    },
    "papermill": {
     "duration": 12.107175,
     "end_time": "2025-04-24T23:11:38.809523",
     "exception": false,
     "start_time": "2025-04-24T23:11:26.702348",
     "status": "completed"
    },
    "tags": []
   },
   "outputs": [
    {
     "name": "stderr",
     "output_type": "stream",
     "text": [
      "/tmp/ipykernel_19/311544630.py:2: FutureWarning: You are using `torch.load` with `weights_only=False` (the current default value), which uses the default pickle module implicitly. It is possible to construct malicious pickle data which will execute arbitrary code during unpickling (See https://github.com/pytorch/pytorch/blob/main/SECURITY.md#untrusted-models for more details). In a future release, the default value for `weights_only` will be flipped to `True`. This limits the functions that could be executed during unpickling. Arbitrary objects will no longer be allowed to be loaded via this mode unless they are explicitly allowlisted by the user via `torch.serialization.add_safe_globals`. We recommend you start setting `weights_only=True` for any use case where you don't have full control of the loaded file. Please open an issue on GitHub for any issues related to this experimental feature.\n",
      "  model.load_state_dict(torch.load('best_model.pth'))\n",
      "Test: 100%|██████████| 32/32 [00:11<00:00,  2.81it/s, Loss=0.2449, Acc=4.1562]"
     ]
    },
    {
     "name": "stdout",
     "output_type": "stream",
     "text": [
      "===== Test Results =====\n",
      "Test Loss: 0.2449\n",
      "Test Accuracy: 0.9319\n",
      "Test Precision: 0.9329\n",
      "Test Recall: 0.9320\n",
      "Test F1 Score: 0.9319\n"
     ]
    },
    {
     "name": "stderr",
     "output_type": "stream",
     "text": [
      "\n"
     ]
    }
   ],
   "source": [
    "# Load the best model\n",
    "model.load_state_dict(torch.load('best_model.pth'))\n",
    "\n",
    "# Evaluate on test set\n",
    "model.eval()\n",
    "test_loss = 0.0\n",
    "correct = 0\n",
    "y_test_pred = []\n",
    "y_test_true = []\n",
    "\n",
    "with torch.no_grad():\n",
    "    pbar_test = tqdm(test_loader, desc='Test')\n",
    "    for X_batch, y_batch in pbar_test:\n",
    "        X_batch, y_batch = X_batch.to(device), y_batch.to(device)\n",
    "        \n",
    "        # Forward pass\n",
    "        outputs = model(X_batch)\n",
    "        loss = nn.CrossEntropyLoss()(outputs, y_batch)\n",
    "        \n",
    "        # Update test loss\n",
    "        test_loss += loss.item()\n",
    "        \n",
    "        # Get predictions\n",
    "        _, predicted = torch.max(outputs, 1)\n",
    "        \n",
    "        # Update correct predictions count\n",
    "        correct += (predicted == y_batch).sum().item()\n",
    "        \n",
    "        # Store predictions and true labels for metrics\n",
    "        y_test_pred.extend(predicted.cpu().numpy())\n",
    "        y_test_true.extend(y_batch.cpu().numpy())\n",
    "        \n",
    "        # Update progress bar\n",
    "        pbar_test.set_postfix({\n",
    "            'Loss': f'{test_loss / (pbar_test.n + 1):.4f}', \n",
    "            'Acc': f'{correct / ((pbar_test.n + 1) * X_batch.size(0)):.4f}'\n",
    "        })\n",
    "    \n",
    "    # Calculate test metrics\n",
    "    test_accuracy = correct / len(test_dataset)\n",
    "    test_precision = precision_score(y_test_true, y_test_pred, average='macro')\n",
    "    test_recall = recall_score(y_test_true, y_test_pred, average='macro')\n",
    "    test_f1 = f1_score(y_test_true, y_test_pred, average='macro')\n",
    "    \n",
    "    print(f'===== Test Results =====')\n",
    "    print(f'Test Loss: {test_loss / len(test_loader):.4f}')\n",
    "    print(f'Test Accuracy: {test_accuracy:.4f}')\n",
    "    print(f'Test Precision: {test_precision:.4f}')\n",
    "    print(f'Test Recall: {test_recall:.4f}')\n",
    "    print(f'Test F1 Score: {test_f1:.4f}')"
   ]
  },
  {
   "cell_type": "code",
   "execution_count": 5,
   "id": "d223438f",
   "metadata": {
    "execution": {
     "iopub.execute_input": "2025-04-24T23:11:40.200830Z",
     "iopub.status.busy": "2025-04-24T23:11:40.200545Z",
     "iopub.status.idle": "2025-04-24T23:11:41.445503Z",
     "shell.execute_reply": "2025-04-24T23:11:41.444806Z"
    },
    "papermill": {
     "duration": 1.904295,
     "end_time": "2025-04-24T23:11:41.448355",
     "exception": false,
     "start_time": "2025-04-24T23:11:39.544060",
     "status": "completed"
    },
    "tags": []
   },
   "outputs": [
    {
     "data": {
      "image/png": "[encoded data removed]",
      "text/plain": [
       "<Figure size 1500x1000 with 4 Axes>"
      ]
     },
     "metadata": {},
     "output_type": "display_data"
    }
   ],
   "source": [
    "# Plot training metrics\n",
    "plt.figure(figsize=(15, 10))\n",
    "\n",
    "# Plot losses\n",
    "plt.subplot(2, 2, 1)\n",
    "plt.plot(metrics['train_loss'], label='Training Loss')\n",
    "plt.plot(metrics['val_loss'], label='Validation Loss')\n",
    "plt.xlabel('Epoch')\n",
    "plt.ylabel('Loss')\n",
    "plt.title('Training and Validation Loss')\n",
    "plt.legend()\n",
    "\n",
    "# Plot accuracy\n",
    "plt.subplot(2, 2, 2)\n",
    "plt.plot(metrics['accuracy'])\n",
    "plt.xlabel('Epoch')\n",
    "plt.ylabel('Accuracy')\n",
    "plt.title('Validation Accuracy')\n",
    "\n",
    "# Plot precision and recall\n",
    "plt.subplot(2, 2, 3)\n",
    "plt.plot(metrics['precision'], label='Precision')\n",
    "plt.plot(metrics['recall'], label='Recall')\n",
    "plt.xlabel('Epoch')\n",
    "plt.ylabel('Score')\n",
    "plt.title('Precision and Recall')\n",
    "plt.legend()\n",
    "\n",
    "# Plot F1 score\n",
    "plt.subplot(2, 2, 4)\n",
    "plt.plot(metrics['f1'])\n",
    "plt.xlabel('Epoch')\n",
    "plt.ylabel('F1 Score')\n",
    "plt.title('F1 Score')\n",
    "\n",
    "plt.tight_layout()\n",
    "plt.savefig('training_metrics.png')\n",
    "plt.show()"
   ]
  }
 ],
 "metadata": {
  "kaggle": {
   "accelerator": "nvidiaTeslaT4",
   "dataSources": [
    {
     "datasetId": 7244458,
     "sourceId": 11552638,
     "sourceType": "datasetVersion"
    }
   ],
   "dockerImageVersionId": 31011,
   "isGpuEnabled": true,
   "isInternetEnabled": true,
   "language": "python",
   "sourceType": "notebook"
  },
  "kernelspec": {
   "display_name": "Python 3",
   "language": "python",
   "name": "python3"
  },
  "language_info": {
   "codemirror_mode": {
    "name": "ipython",
    "version": 3
   },
   "file_extension": ".py",
   "mimetype": "text/x-python",
   "name": "python",
   "nbconvert_exporter": "python",
   "pygments_lexer": "ipython3",
   "version": "3.11.11"
  },
  "papermill": {
   "default_parameters": {},
   "duration": 4113.877723,
   "end_time": "2025-04-24T23:11:45.379371",
   "environment_variables": {},
   "exception": null,
   "input_path": "__notebook__.ipynb",
   "output_path": "__notebook__.ipynb",
   "parameters": {},
   "start_time": "2025-04-24T22:03:11.501648",
   "version": "2.6.0"
  }
 },
 "nbformat": 4,
 "nbformat_minor": 5
}
